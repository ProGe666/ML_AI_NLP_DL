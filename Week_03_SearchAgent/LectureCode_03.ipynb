{
 "cells": [
  {
   "cell_type": "markdown",
   "metadata": {},
   "source": [
    "## 1. Best First Search"
   ]
  },
  {
   "cell_type": "markdown",
   "metadata": {},
   "source": [
    "**Basic Navigator for Chinese Cities**<br>\n",
    "根据中国的城市，做一个简易版的导航地图"
   ]
  },
  {
   "cell_type": "code",
   "execution_count": 1,
   "metadata": {
    "ExecuteTime": {
     "end_time": "2019-04-19T00:02:54.048409Z",
     "start_time": "2019-04-19T00:02:54.043733Z"
    }
   },
   "outputs": [],
   "source": [
    "coordinations_chinese = \"\"\"\n",
    "{name:'兰州', geoCoord:[103.73, 36.03]},\n",
    "{name:'嘉峪关', geoCoord:[98.17, 39.47]},\n",
    "{name:'西宁', geoCoord:[101.74, 36.56]},\n",
    "{name:'成都', geoCoord:[104.06, 30.67]},\n",
    "{name:'石家庄', geoCoord:[114.48, 38.03]},\n",
    "{name:'拉萨', geoCoord:[102.73, 25.04]},\n",
    "{name:'贵阳', geoCoord:[106.71, 26.57]},\n",
    "{name:'武汉', geoCoord:[114.31, 30.52]},\n",
    "{name:'郑州', geoCoord:[113.65, 34.76]},\n",
    "{name:'济南', geoCoord:[117, 36.65]},\n",
    "{name:'南京', geoCoord:[118.78, 32.04]},\n",
    "{name:'合肥', geoCoord:[117.27, 31.86]},\n",
    "{name:'杭州', geoCoord:[120.19, 30.26]},\n",
    "{name:'南昌', geoCoord:[115.89, 28.68]},\n",
    "{name:'福州', geoCoord:[119.3, 26.08]},\n",
    "{name:'广州', geoCoord:[113.23, 23.16]},\n",
    "{name:'长沙', geoCoord:[113, 28.21]},\n",
    "//{name:'海口', geoCoord:[110.35, 20.02]},\n",
    "{name:'沈阳', geoCoord:[123.38, 41.8]},\n",
    "{name:'长春', geoCoord:[125.35, 43.88]},\n",
    "{name:'哈尔滨', geoCoord:[126.63, 45.75]},\n",
    "{name:'太原', geoCoord:[112.53, 37.87]},\n",
    "{name:'西安', geoCoord:[108.95, 34.27]},\n",
    "//{name:'台湾', geoCoord:[121.30, 25.03]},\n",
    "{name:'北京', geoCoord:[116.46, 39.92]},\n",
    "{name:'上海', geoCoord:[121.48, 31.22]},\n",
    "{name:'重庆', geoCoord:[106.54, 29.59]},\n",
    "{name:'天津', geoCoord:[117.2, 39.13]},\n",
    "{name:'呼和浩特', geoCoord:[111.65, 40.82]},\n",
    "{name:'南宁', geoCoord:[108.33, 22.84]},\n",
    "//{name:'西藏', geoCoord:[91.11, 29.97]},\n",
    "{name:'银川', geoCoord:[106.27, 38.47]},\n",
    "{name:'乌鲁木齐', geoCoord:[87.68, 43.77]},\n",
    "{name:'香港', geoCoord:[114.17, 22.28]},\n",
    "{name:'澳门', geoCoord:[113.54, 22.19]}\n",
    "\"\"\""
   ]
  },
  {
   "cell_type": "markdown",
   "metadata": {},
   "source": [
    "### 1.1 Extract City With Location "
   ]
  },
  {
   "cell_type": "code",
   "execution_count": 2,
   "metadata": {
    "ExecuteTime": {
     "end_time": "2019-04-19T00:02:54.055586Z",
     "start_time": "2019-04-19T00:02:54.052424Z"
    }
   },
   "outputs": [],
   "source": [
    "import re"
   ]
  },
  {
   "cell_type": "code",
   "execution_count": 3,
   "metadata": {
    "ExecuteTime": {
     "end_time": "2019-04-19T00:02:54.061775Z",
     "start_time": "2019-04-19T00:02:54.058509Z"
    }
   },
   "outputs": [],
   "source": [
    "from collections import defaultdict"
   ]
  },
  {
   "cell_type": "code",
   "execution_count": 4,
   "metadata": {
    "ExecuteTime": {
     "end_time": "2019-04-19T00:02:54.069935Z",
     "start_time": "2019-04-19T00:02:54.065373Z"
    }
   },
   "outputs": [],
   "source": [
    "city_location = defaultdict(tuple)"
   ]
  },
  {
   "cell_type": "code",
   "execution_count": 5,
   "metadata": {
    "ExecuteTime": {
     "end_time": "2019-04-19T00:02:54.080145Z",
     "start_time": "2019-04-19T00:02:54.073445Z"
    }
   },
   "outputs": [],
   "source": [
    "for line in coordinations_chinese.split('\\n'):\n",
    "    # Skip city Haikou, Taiwan, Tibet\n",
    "    if line.startswith('//'): continue\n",
    "        \n",
    "    # Skip the first and last empty lines\n",
    "    if line.strip() == '': continue\n",
    "    \n",
    "    # Get city name\n",
    "    city = re.findall(\"name:'(\\w+)'\", line)[0]\n",
    "    \n",
    "    # Get city location\n",
    "    x_y = re.findall(\"Coord:\\[(\\d+.\\d+),\\s(\\d+.\\d+)\\]\", line)[0]\n",
    "    x_y = tuple(map(float, x_y))\n",
    "    \n",
    "    # Save to dictionary\n",
    "    city_location[city] = x_y"
   ]
  },
  {
   "cell_type": "code",
   "execution_count": 6,
   "metadata": {
    "ExecuteTime": {
     "end_time": "2019-04-19T00:02:54.089180Z",
     "start_time": "2019-04-19T00:02:54.082725Z"
    }
   },
   "outputs": [
    {
     "name": "stdout",
     "output_type": "stream",
     "text": [
      "兰州 (103.73, 36.03)\n",
      "嘉峪关 (98.17, 39.47)\n",
      "西宁 (101.74, 36.56)\n",
      "成都 (104.06, 30.67)\n",
      "石家庄 (114.48, 38.03)\n",
      "拉萨 (102.73, 25.04)\n",
      "贵阳 (106.71, 26.57)\n",
      "武汉 (114.31, 30.52)\n",
      "郑州 (113.65, 34.76)\n",
      "济南 (117.0, 36.65)\n",
      "南京 (118.78, 32.04)\n",
      "合肥 (117.27, 31.86)\n",
      "杭州 (120.19, 30.26)\n",
      "南昌 (115.89, 28.68)\n",
      "福州 (119.3, 26.08)\n",
      "广州 (113.23, 23.16)\n",
      "长沙 (113.0, 28.21)\n",
      "沈阳 (123.38, 41.8)\n",
      "长春 (125.35, 43.88)\n",
      "哈尔滨 (126.63, 45.75)\n",
      "太原 (112.53, 37.87)\n",
      "西安 (108.95, 34.27)\n",
      "北京 (116.46, 39.92)\n",
      "上海 (121.48, 31.22)\n",
      "重庆 (106.54, 29.59)\n",
      "天津 (117.2, 39.13)\n",
      "呼和浩特 (111.65, 40.82)\n",
      "南宁 (108.33, 22.84)\n",
      "银川 (106.27, 38.47)\n",
      "乌鲁木齐 (87.68, 43.77)\n",
      "香港 (114.17, 22.28)\n",
      "澳门 (113.54, 22.19)\n"
     ]
    }
   ],
   "source": [
    "# View the city with location\n",
    "for c, l in city_location.items():\n",
    "    print(c, l)"
   ]
  },
  {
   "cell_type": "markdown",
   "metadata": {},
   "source": [
    "### 1.2 Compute Geo_Distance Between Two Cities"
   ]
  },
  {
   "cell_type": "code",
   "execution_count": 7,
   "metadata": {
    "ExecuteTime": {
     "end_time": "2019-04-19T00:02:54.099002Z",
     "start_time": "2019-04-19T00:02:54.094477Z"
    }
   },
   "outputs": [],
   "source": [
    "import math"
   ]
  },
  {
   "cell_type": "code",
   "execution_count": 8,
   "metadata": {
    "ExecuteTime": {
     "end_time": "2019-04-19T00:02:54.111540Z",
     "start_time": "2019-04-19T00:02:54.102435Z"
    }
   },
   "outputs": [],
   "source": [
    "# Refer to the function to compute geo_distance\n",
    "def geo_distance(origin, destination):\n",
    "    \"\"\"\n",
    "    Calculate the Haversine distance.\n",
    "\n",
    "    Parameters\n",
    "    ----------\n",
    "    origin : tuple of float\n",
    "        (lat, long)\n",
    "    destination : tuple of float\n",
    "        (lat, long)\n",
    "\n",
    "    Returns\n",
    "    -------\n",
    "    distance_in_km : float\n",
    "\n",
    "    Examples\n",
    "    --------\n",
    "    >>> origin = (48.1372, 11.5756)  # Munich\n",
    "    >>> destination = (52.5186, 13.4083)  # Berlin\n",
    "    >>> round(distance(origin, destination), 1)\n",
    "    504.2\n",
    "    \"\"\"\n",
    "    lat1, lon1 = origin\n",
    "    lat2, lon2 = destination\n",
    "    radius = 6371  # km\n",
    "\n",
    "    dlat = math.radians(lat2 - lat1)\n",
    "    dlon = math.radians(lon2 - lon1)\n",
    "    a = (math.sin(dlat / 2) * math.sin(dlat / 2) +\n",
    "         math.cos(math.radians(lat1)) * math.cos(math.radians(lat2)) *\n",
    "         math.sin(dlon / 2) * math.sin(dlon / 2))\n",
    "    c = 2 * math.atan2(math.sqrt(a), math.sqrt(1 - a))\n",
    "    d = radius * c\n",
    "\n",
    "    return d"
   ]
  },
  {
   "cell_type": "code",
   "execution_count": 9,
   "metadata": {
    "ExecuteTime": {
     "end_time": "2019-04-19T00:02:54.118505Z",
     "start_time": "2019-04-19T00:02:54.113934Z"
    }
   },
   "outputs": [],
   "source": [
    "# Build function to get two cities geo_distance\n",
    "def get_city_distance(city1, city2):\n",
    "    return geo_distance(city_location[city1], city_location[city2])"
   ]
  },
  {
   "cell_type": "code",
   "execution_count": 10,
   "metadata": {
    "ExecuteTime": {
     "end_time": "2019-04-19T00:02:54.125745Z",
     "start_time": "2019-04-19T00:02:54.120917Z"
    }
   },
   "outputs": [
    {
     "name": "stdout",
     "output_type": "stream",
     "text": [
      "Geo_Distance from 武汉 to 广州 is 350.79 km\n"
     ]
    }
   ],
   "source": [
    "# Test\n",
    "city1 = '武汉'\n",
    "city2 = '广州'\n",
    "distance = get_city_distance(city1, city2)\n",
    "print('Geo_Distance from {} to {} is {:.2f} km'.format(city1, city2, distance))"
   ]
  },
  {
   "cell_type": "markdown",
   "metadata": {},
   "source": [
    "### 1.3 Visulization Map"
   ]
  },
  {
   "cell_type": "code",
   "execution_count": 11,
   "metadata": {
    "ExecuteTime": {
     "end_time": "2019-04-19T00:02:55.359792Z",
     "start_time": "2019-04-19T00:02:54.128228Z"
    }
   },
   "outputs": [],
   "source": [
    "import networkx as nx\n",
    "import matplotlib.pyplot as plt\n",
    "import warnings\n",
    "\n",
    "warnings.filterwarnings('ignore')\n",
    "%matplotlib inline\n",
    "plt.rcParams['font.sans-serif'] = ['SimHei']"
   ]
  },
  {
   "cell_type": "code",
   "execution_count": 12,
   "metadata": {
    "ExecuteTime": {
     "end_time": "2019-04-19T00:02:55.364037Z",
     "start_time": "2019-04-19T00:02:55.361565Z"
    }
   },
   "outputs": [],
   "source": [
    "# Init graph object\n",
    "city_graph = nx.Graph()"
   ]
  },
  {
   "cell_type": "code",
   "execution_count": 13,
   "metadata": {
    "ExecuteTime": {
     "end_time": "2019-04-19T00:02:55.372730Z",
     "start_time": "2019-04-19T00:02:55.368788Z"
    }
   },
   "outputs": [],
   "source": [
    "# add nodes to graph\n",
    "city_graph.add_nodes_from(list(city_location.keys()))"
   ]
  },
  {
   "cell_type": "code",
   "execution_count": 14,
   "metadata": {
    "ExecuteTime": {
     "end_time": "2019-04-19T00:02:55.585237Z",
     "start_time": "2019-04-19T00:02:55.377313Z"
    }
   },
   "outputs": [
    {
     "data": {
      "image/png": "[encoded data removed]",
      "text/plain": [
       "<Figure size 720x576 with 1 Axes>"
      ]
     },
     "metadata": {},
     "output_type": "display_data"
    }
   ],
   "source": [
    "# Draw graph\n",
    "plt.figure(figsize=(10,8))\n",
    "nx.draw(city_graph, pos=city_location, with_labels=True, node_size=40, font_size=15)\n",
    "plt.show()"
   ]
  },
  {
   "cell_type": "code",
   "execution_count": 15,
   "metadata": {
    "ExecuteTime": {
     "end_time": "2019-04-19T00:02:55.590509Z",
     "start_time": "2019-04-19T00:02:55.587417Z"
    }
   },
   "outputs": [],
   "source": [
    "# Set distance threshold\n",
    "threshold = 700"
   ]
  },
  {
   "cell_type": "code",
   "execution_count": 16,
   "metadata": {
    "ExecuteTime": {
     "end_time": "2019-04-19T00:02:55.595713Z",
     "start_time": "2019-04-19T00:02:55.592532Z"
    }
   },
   "outputs": [],
   "source": [
    "from collections import defaultdict"
   ]
  },
  {
   "cell_type": "code",
   "execution_count": 17,
   "metadata": {
    "ExecuteTime": {
     "end_time": "2019-04-19T00:02:55.601013Z",
     "start_time": "2019-04-19T00:02:55.597962Z"
    }
   },
   "outputs": [],
   "source": [
    "city_connections = defaultdict(list)"
   ]
  },
  {
   "cell_type": "code",
   "execution_count": 18,
   "metadata": {
    "ExecuteTime": {
     "end_time": "2019-04-19T00:02:55.606719Z",
     "start_time": "2019-04-19T00:02:55.602771Z"
    }
   },
   "outputs": [],
   "source": [
    "# Get city list\n",
    "cities = list(city_location.keys())"
   ]
  },
  {
   "cell_type": "code",
   "execution_count": 19,
   "metadata": {
    "ExecuteTime": {
     "end_time": "2019-04-19T00:02:55.616354Z",
     "start_time": "2019-04-19T00:02:55.608970Z"
    }
   },
   "outputs": [],
   "source": [
    "# Build connections by distance threshold\n",
    "for c1 in cities:\n",
    "    for c2 in cities:\n",
    "        if c1 == c2: continue\n",
    "        \n",
    "        if get_city_distance(c1, c2) < threshold:\n",
    "            city_connections[c1].append(c2)"
   ]
  },
  {
   "cell_type": "code",
   "execution_count": 20,
   "metadata": {
    "ExecuteTime": {
     "end_time": "2019-04-19T00:02:55.622912Z",
     "start_time": "2019-04-19T00:02:55.618869Z"
    }
   },
   "outputs": [],
   "source": [
    "# Init connection graph\n",
    "city_connections_graph = nx.Graph(city_connections)"
   ]
  },
  {
   "cell_type": "code",
   "execution_count": 21,
   "metadata": {
    "ExecuteTime": {
     "end_time": "2019-04-19T00:02:55.821602Z",
     "start_time": "2019-04-19T00:02:55.625379Z"
    }
   },
   "outputs": [
    {
     "data": {
      "image/png": "[encoded data removed]",
      "text/plain": [
       "<Figure size 720x576 with 1 Axes>"
      ]
     },
     "metadata": {},
     "output_type": "display_data"
    }
   ],
   "source": [
    "# Draw graph\n",
    "plt.figure(figsize=(10,8))\n",
    "nx.draw(city_connections_graph, city_location, with_labels=True, node_size=40, font_size=15)\n",
    "plt.show()"
   ]
  },
  {
   "cell_type": "code",
   "execution_count": 22,
   "metadata": {
    "ExecuteTime": {
     "end_time": "2019-04-19T00:02:55.828075Z",
     "start_time": "2019-04-19T00:02:55.823427Z"
    }
   },
   "outputs": [
    {
     "data": {
      "text/plain": [
       "776.4154006857316"
      ]
     },
     "execution_count": 22,
     "metadata": {},
     "output_type": "execute_result"
    }
   ],
   "source": [
    "get_city_distance('沈阳', '北京')"
   ]
  },
  {
   "cell_type": "code",
   "execution_count": 23,
   "metadata": {
    "ExecuteTime": {
     "end_time": "2019-04-19T00:02:55.835284Z",
     "start_time": "2019-04-19T00:02:55.830268Z"
    }
   },
   "outputs": [
    {
     "data": {
      "text/plain": [
       "664.4873799505449"
      ]
     },
     "execution_count": 23,
     "metadata": {},
     "output_type": "execute_result"
    }
   ],
   "source": [
    "get_city_distance('沈阳', '上海')"
   ]
  },
  {
   "cell_type": "markdown",
   "metadata": {},
   "source": [
    "### 1.4 Init Search Function"
   ]
  },
  {
   "cell_type": "code",
   "execution_count": 24,
   "metadata": {
    "ExecuteTime": {
     "end_time": "2019-04-19T00:02:55.841956Z",
     "start_time": "2019-04-19T00:02:55.838116Z"
    }
   },
   "outputs": [],
   "source": [
    "def is_goal(current_path, destination):\n",
    "    return current_path[-1] == destination"
   ]
  },
  {
   "cell_type": "code",
   "execution_count": 25,
   "metadata": {
    "ExecuteTime": {
     "end_time": "2019-04-19T00:02:55.850096Z",
     "start_time": "2019-04-19T00:02:55.844543Z"
    }
   },
   "outputs": [
    {
     "data": {
      "text/plain": [
       "True"
      ]
     },
     "execution_count": 25,
     "metadata": {},
     "output_type": "execute_result"
    }
   ],
   "source": [
    "# Test\n",
    "is_goal(['西安', '兰州'], '兰州')"
   ]
  },
  {
   "cell_type": "code",
   "execution_count": 26,
   "metadata": {
    "ExecuteTime": {
     "end_time": "2019-04-19T00:02:55.857150Z",
     "start_time": "2019-04-19T00:02:55.852884Z"
    }
   },
   "outputs": [],
   "source": [
    "def is_goal(destination):\n",
    "    def _wrap(current_path):\n",
    "        return current_path[-1] == destination\n",
    "    return _wrap"
   ]
  },
  {
   "cell_type": "code",
   "execution_count": 27,
   "metadata": {
    "ExecuteTime": {
     "end_time": "2019-04-19T00:02:55.864446Z",
     "start_time": "2019-04-19T00:02:55.859715Z"
    }
   },
   "outputs": [
    {
     "data": {
      "text/plain": [
       "<function __main__.is_goal.<locals>._wrap(current_path)>"
      ]
     },
     "execution_count": 27,
     "metadata": {},
     "output_type": "execute_result"
    }
   ],
   "source": [
    "# Test\n",
    "is_goal('上海')"
   ]
  },
  {
   "cell_type": "code",
   "execution_count": 28,
   "metadata": {
    "ExecuteTime": {
     "end_time": "2019-04-19T00:02:55.873210Z",
     "start_time": "2019-04-19T00:02:55.867086Z"
    }
   },
   "outputs": [],
   "source": [
    "# Init function to search path\n",
    "def search(graph, start, is_goal):\n",
    "    pathes = [[start]]\n",
    "    seen = set()\n",
    "    \n",
    "    while pathes:\n",
    "        path = pathes.pop(0)\n",
    "        frontier_city = path[-1]\n",
    "        \n",
    "        if frontier_city in seen: continue\n",
    "        \n",
    "        successor_cities = graph[frontier_city]\n",
    "        \n",
    "        for city in successor_cities:\n",
    "            if city in path: continue\n",
    "            \n",
    "            new_path = path + [city]\n",
    "            \n",
    "            pathes.append(new_path)\n",
    "            \n",
    "            if is_goal(new_path): return new_path\n",
    "        \n",
    "        seen.add(frontier_city)"
   ]
  },
  {
   "cell_type": "code",
   "execution_count": 29,
   "metadata": {
    "ExecuteTime": {
     "end_time": "2019-04-19T00:02:55.881060Z",
     "start_time": "2019-04-19T00:02:55.875637Z"
    }
   },
   "outputs": [
    {
     "data": {
      "text/plain": [
       "['北京', '长沙', '南宁', '拉萨']"
      ]
     },
     "execution_count": 29,
     "metadata": {},
     "output_type": "execute_result"
    }
   ],
   "source": [
    "# Test\n",
    "search(city_connections, '北京', is_goal('拉萨'))"
   ]
  },
  {
   "cell_type": "markdown",
   "metadata": {},
   "source": [
    "### 1.5 Add Search Strategy"
   ]
  },
  {
   "cell_type": "code",
   "execution_count": 30,
   "metadata": {
    "ExecuteTime": {
     "end_time": "2019-04-19T00:02:55.890263Z",
     "start_time": "2019-04-19T00:02:55.883589Z"
    }
   },
   "outputs": [],
   "source": [
    "# Optimaize search function\n",
    "def search(graph, start, is_goal, search_strategy):\n",
    "    pathes = [[start]]\n",
    "    seen = set()\n",
    "    \n",
    "    while pathes:\n",
    "        path = pathes.pop(0)\n",
    "        frontier_city = path[-1]\n",
    "        \n",
    "        if frontier_city in seen: continue\n",
    "        \n",
    "        successor_cities = graph[frontier_city]\n",
    "        \n",
    "        for city in successor_cities:\n",
    "            if city in path: continue\n",
    "            \n",
    "            new_path = path + [city]\n",
    "            \n",
    "            pathes.append(new_path)\n",
    "            \n",
    "            if is_goal(new_path): return new_path\n",
    "            \n",
    "        seen.add(frontier_city)\n",
    "        pathes = search_strategy(pathes)"
   ]
  },
  {
   "cell_type": "code",
   "execution_count": 31,
   "metadata": {
    "ExecuteTime": {
     "end_time": "2019-04-19T00:02:55.896879Z",
     "start_time": "2019-04-19T00:02:55.892907Z"
    }
   },
   "outputs": [],
   "source": [
    "def sort_path(cmp_func):\n",
    "    def _sorted(pathes):\n",
    "        return sorted(pathes, key=cmp_func)\n",
    "    return _sorted"
   ]
  },
  {
   "cell_type": "markdown",
   "metadata": {},
   "source": [
    "**1.5.1 Search Without Strategy**"
   ]
  },
  {
   "cell_type": "code",
   "execution_count": 32,
   "metadata": {
    "ExecuteTime": {
     "end_time": "2019-04-19T00:02:55.907366Z",
     "start_time": "2019-04-19T00:02:55.899104Z"
    }
   },
   "outputs": [
    {
     "data": {
      "text/plain": [
       "['北京', '长沙', '南宁', '拉萨']"
      ]
     },
     "execution_count": 32,
     "metadata": {},
     "output_type": "execute_result"
    }
   ],
   "source": [
    "# Search when strategy is empty\n",
    "search(city_connections, '北京', is_goal('拉萨'), search_strategy=lambda n: n)"
   ]
  },
  {
   "cell_type": "markdown",
   "metadata": {},
   "source": [
    "**1.5.2 Search With Shortest Distance**"
   ]
  },
  {
   "cell_type": "code",
   "execution_count": 33,
   "metadata": {
    "ExecuteTime": {
     "end_time": "2019-04-19T00:02:55.923307Z",
     "start_time": "2019-04-19T00:02:55.910551Z"
    }
   },
   "outputs": [],
   "source": [
    "# Build function to compute path distance\n",
    "def get_path_distance(path):\n",
    "    distance = 0\n",
    "    \n",
    "    for index, city in enumerate(path[:-1]):\n",
    "        distance += get_city_distance(city, path[index+1])\n",
    "    \n",
    "    return distance"
   ]
  },
  {
   "cell_type": "code",
   "execution_count": 34,
   "metadata": {
    "ExecuteTime": {
     "end_time": "2019-04-19T00:02:55.950251Z",
     "start_time": "2019-04-19T00:02:55.927181Z"
    }
   },
   "outputs": [
    {
     "data": {
      "text/plain": [
       "['北京', '呼和浩特', '银川', '拉萨']"
      ]
     },
     "execution_count": 34,
     "metadata": {},
     "output_type": "execute_result"
    }
   ],
   "source": [
    "# Search when strategy is shortest distance\n",
    "search(city_connections, '北京', is_goal('拉萨'), sort_path(get_path_distance))"
   ]
  },
  {
   "cell_type": "code",
   "execution_count": 35,
   "metadata": {
    "ExecuteTime": {
     "end_time": "2019-04-19T00:02:55.967204Z",
     "start_time": "2019-04-19T00:02:55.960766Z"
    }
   },
   "outputs": [
    {
     "name": "stdout",
     "output_type": "stream",
     "text": [
      "Distance from 北京 to 拉萨 with path ['北京', '呼和浩特', '银川', '拉萨'] is 1680.97 km\n"
     ]
    }
   ],
   "source": [
    "# Test 1\n",
    "path = ['北京', '呼和浩特', '银川', '拉萨']\n",
    "distance = get_path_distance(path)\n",
    "print('Distance from {} to {} with path {} is {:.2f} km'.format(path[0], path[-1], path, distance))"
   ]
  },
  {
   "cell_type": "code",
   "execution_count": 36,
   "metadata": {
    "ExecuteTime": {
     "end_time": "2019-04-19T00:02:55.977194Z",
     "start_time": "2019-04-19T00:02:55.970924Z"
    }
   },
   "outputs": [
    {
     "name": "stdout",
     "output_type": "stream",
     "text": [
      "Distance from 北京 to 拉萨 with path ['北京', '长沙', '南宁', '拉萨'] is 1851.14 km\n"
     ]
    }
   ],
   "source": [
    "# Test 2\n",
    "path = ['北京', '长沙', '南宁', '拉萨']\n",
    "distance = get_path_distance(path)\n",
    "print('Distance from {} to {} with path {} is {:.2f} km'.format(path[0], path[-1], path, distance))"
   ]
  },
  {
   "cell_type": "markdown",
   "metadata": {},
   "source": [
    "**1.5.3 Search With Least Stations**"
   ]
  },
  {
   "cell_type": "code",
   "execution_count": 37,
   "metadata": {
    "ExecuteTime": {
     "end_time": "2019-04-19T00:02:55.983321Z",
     "start_time": "2019-04-19T00:02:55.979530Z"
    }
   },
   "outputs": [],
   "source": [
    "# Build function to get path length\n",
    "def get_total_station(path):\n",
    "    return len(path)"
   ]
  },
  {
   "cell_type": "code",
   "execution_count": 38,
   "metadata": {
    "ExecuteTime": {
     "end_time": "2019-04-19T00:02:55.992382Z",
     "start_time": "2019-04-19T00:02:55.985374Z"
    }
   },
   "outputs": [
    {
     "data": {
      "text/plain": [
       "['北京', '长沙', '南宁', '拉萨']"
      ]
     },
     "execution_count": 38,
     "metadata": {},
     "output_type": "execute_result"
    }
   ],
   "source": [
    "# Search when strategy is least stations\n",
    "search(city_connections, '北京', is_goal('拉萨'), sort_path(get_total_station))"
   ]
  },
  {
   "cell_type": "markdown",
   "metadata": {},
   "source": [
    "**1.5.4 Search With Shortest Distance & Least Stations**"
   ]
  },
  {
   "cell_type": "code",
   "execution_count": 39,
   "metadata": {
    "ExecuteTime": {
     "end_time": "2019-04-19T00:02:56.000749Z",
     "start_time": "2019-04-19T00:02:55.994805Z"
    }
   },
   "outputs": [],
   "source": [
    "def get_comprehensive_path(path):\n",
    "    return get_path_distance(path) + get_total_station(path)"
   ]
  },
  {
   "cell_type": "code",
   "execution_count": 40,
   "metadata": {
    "ExecuteTime": {
     "end_time": "2019-04-19T00:02:56.030265Z",
     "start_time": "2019-04-19T00:02:56.006785Z"
    }
   },
   "outputs": [
    {
     "data": {
      "text/plain": [
       "['北京', '呼和浩特', '银川', '拉萨']"
      ]
     },
     "execution_count": 40,
     "metadata": {},
     "output_type": "execute_result"
    }
   ],
   "source": [
    "# Search when strategy is (shortest distance & least stations)\n",
    "search(city_connections, '北京', is_goal('拉萨'), sort_path(get_comprehensive_path))"
   ]
  },
  {
   "cell_type": "markdown",
   "metadata": {},
   "source": [
    "**1.5.5 Search With Maximum Stations**"
   ]
  },
  {
   "cell_type": "code",
   "execution_count": 41,
   "metadata": {
    "ExecuteTime": {
     "end_time": "2019-04-19T00:02:56.038326Z",
     "start_time": "2019-04-19T00:02:56.033054Z"
    }
   },
   "outputs": [],
   "source": [
    "def get_as_much_station(path): \n",
    "    return -1 * len(path)"
   ]
  },
  {
   "cell_type": "code",
   "execution_count": 42,
   "metadata": {
    "ExecuteTime": {
     "end_time": "2019-04-19T00:02:56.048098Z",
     "start_time": "2019-04-19T00:02:56.042639Z"
    }
   },
   "outputs": [
    {
     "name": "stdout",
     "output_type": "stream",
     "text": [
      "['北京', '石家庄', '武汉', '郑州', '济南', '南京', '合肥', '杭州', '南昌', '福州', '广州', '长沙', '太原', '西安', '兰州', '拉萨']\n"
     ]
    }
   ],
   "source": [
    "# Search when strategy is maximum stations\n",
    "path = search(city_connections, '北京', is_goal('拉萨'), sort_path(get_as_much_station))\n",
    "print(path)"
   ]
  },
  {
   "cell_type": "markdown",
   "metadata": {},
   "source": [
    "----"
   ]
  },
  {
   "cell_type": "markdown",
   "metadata": {},
   "source": [
    "## 2. Titanic Machine Learning"
   ]
  },
  {
   "cell_type": "markdown",
   "metadata": {},
   "source": [
    ">titanic data download path: https://www.kaggle.com/c/titanic/data"
   ]
  },
  {
   "cell_type": "code",
   "execution_count": 43,
   "metadata": {
    "ExecuteTime": {
     "end_time": "2019-04-19T00:02:56.545706Z",
     "start_time": "2019-04-19T00:02:56.050936Z"
    }
   },
   "outputs": [],
   "source": [
    "import pandas as pd\n",
    "import numpy as np\n",
    "import random\n",
    "import matplotlib.pyplot as plt\n",
    "\n",
    "%matplotlib inline"
   ]
  },
  {
   "cell_type": "code",
   "execution_count": 44,
   "metadata": {
    "ExecuteTime": {
     "end_time": "2019-04-19T00:02:56.564194Z",
     "start_time": "2019-04-19T00:02:56.547452Z"
    }
   },
   "outputs": [],
   "source": [
    "# Load data\n",
    "titanic_path = './data/titanic/train.csv'\n",
    "df = pd.read_csv(titanic_path)"
   ]
  },
  {
   "cell_type": "code",
   "execution_count": 45,
   "metadata": {
    "ExecuteTime": {
     "end_time": "2019-04-19T00:02:56.581563Z",
     "start_time": "2019-04-19T00:02:56.566651Z"
    }
   },
   "outputs": [
    {
     "data": {
      "text/html": [
       "<div>\n",
       "<style scoped>\n",
       "    .dataframe tbody tr th:only-of-type {\n",
       "        vertical-align: middle;\n",
       "    }\n",
       "\n",
       "    .dataframe tbody tr th {\n",
       "        vertical-align: top;\n",
       "    }\n",
       "\n",
       "    .dataframe thead th {\n",
       "        text-align: right;\n",
       "    }\n",
       "</style>\n",
       "<table border=\"1\" class=\"dataframe\">\n",
       "  <thead>\n",
       "    <tr style=\"text-align: right;\">\n",
       "      <th></th>\n",
       "      <th>PassengerId</th>\n",
       "      <th>Survived</th>\n",
       "      <th>Pclass</th>\n",
       "      <th>Name</th>\n",
       "      <th>Sex</th>\n",
       "      <th>Age</th>\n",
       "      <th>SibSp</th>\n",
       "      <th>Parch</th>\n",
       "      <th>Ticket</th>\n",
       "      <th>Fare</th>\n",
       "      <th>Cabin</th>\n",
       "      <th>Embarked</th>\n",
       "    </tr>\n",
       "  </thead>\n",
       "  <tbody>\n",
       "    <tr>\n",
       "      <th>0</th>\n",
       "      <td>1</td>\n",
       "      <td>0</td>\n",
       "      <td>3</td>\n",
       "      <td>Braund, Mr. Owen Harris</td>\n",
       "      <td>male</td>\n",
       "      <td>22.0</td>\n",
       "      <td>1</td>\n",
       "      <td>0</td>\n",
       "      <td>A/5 21171</td>\n",
       "      <td>7.2500</td>\n",
       "      <td>NaN</td>\n",
       "      <td>S</td>\n",
       "    </tr>\n",
       "    <tr>\n",
       "      <th>1</th>\n",
       "      <td>2</td>\n",
       "      <td>1</td>\n",
       "      <td>1</td>\n",
       "      <td>Cumings, Mrs. John Bradley (Florence Briggs Th...</td>\n",
       "      <td>female</td>\n",
       "      <td>38.0</td>\n",
       "      <td>1</td>\n",
       "      <td>0</td>\n",
       "      <td>PC 17599</td>\n",
       "      <td>71.2833</td>\n",
       "      <td>C85</td>\n",
       "      <td>C</td>\n",
       "    </tr>\n",
       "    <tr>\n",
       "      <th>2</th>\n",
       "      <td>3</td>\n",
       "      <td>1</td>\n",
       "      <td>3</td>\n",
       "      <td>Heikkinen, Miss. Laina</td>\n",
       "      <td>female</td>\n",
       "      <td>26.0</td>\n",
       "      <td>0</td>\n",
       "      <td>0</td>\n",
       "      <td>STON/O2. 3101282</td>\n",
       "      <td>7.9250</td>\n",
       "      <td>NaN</td>\n",
       "      <td>S</td>\n",
       "    </tr>\n",
       "    <tr>\n",
       "      <th>3</th>\n",
       "      <td>4</td>\n",
       "      <td>1</td>\n",
       "      <td>1</td>\n",
       "      <td>Futrelle, Mrs. Jacques Heath (Lily May Peel)</td>\n",
       "      <td>female</td>\n",
       "      <td>35.0</td>\n",
       "      <td>1</td>\n",
       "      <td>0</td>\n",
       "      <td>113803</td>\n",
       "      <td>53.1000</td>\n",
       "      <td>C123</td>\n",
       "      <td>S</td>\n",
       "    </tr>\n",
       "    <tr>\n",
       "      <th>4</th>\n",
       "      <td>5</td>\n",
       "      <td>0</td>\n",
       "      <td>3</td>\n",
       "      <td>Allen, Mr. William Henry</td>\n",
       "      <td>male</td>\n",
       "      <td>35.0</td>\n",
       "      <td>0</td>\n",
       "      <td>0</td>\n",
       "      <td>373450</td>\n",
       "      <td>8.0500</td>\n",
       "      <td>NaN</td>\n",
       "      <td>S</td>\n",
       "    </tr>\n",
       "  </tbody>\n",
       "</table>\n",
       "</div>"
      ],
      "text/plain": [
       "   PassengerId  Survived  Pclass  \\\n",
       "0            1         0       3   \n",
       "1            2         1       1   \n",
       "2            3         1       3   \n",
       "3            4         1       1   \n",
       "4            5         0       3   \n",
       "\n",
       "                                                Name     Sex   Age  SibSp  \\\n",
       "0                            Braund, Mr. Owen Harris    male  22.0      1   \n",
       "1  Cumings, Mrs. John Bradley (Florence Briggs Th...  female  38.0      1   \n",
       "2                             Heikkinen, Miss. Laina  female  26.0      0   \n",
       "3       Futrelle, Mrs. Jacques Heath (Lily May Peel)  female  35.0      1   \n",
       "4                           Allen, Mr. William Henry    male  35.0      0   \n",
       "\n",
       "   Parch            Ticket     Fare Cabin Embarked  \n",
       "0      0         A/5 21171   7.2500   NaN        S  \n",
       "1      0          PC 17599  71.2833   C85        C  \n",
       "2      0  STON/O2. 3101282   7.9250   NaN        S  \n",
       "3      0            113803  53.1000  C123        S  \n",
       "4      0            373450   8.0500   NaN        S  "
      ]
     },
     "execution_count": 45,
     "metadata": {},
     "output_type": "execute_result"
    }
   ],
   "source": [
    "df.head()"
   ]
  },
  {
   "cell_type": "code",
   "execution_count": 46,
   "metadata": {
    "ExecuteTime": {
     "end_time": "2019-04-19T00:02:56.593205Z",
     "start_time": "2019-04-19T00:02:56.583486Z"
    }
   },
   "outputs": [
    {
     "name": "stdout",
     "output_type": "stream",
     "text": [
      "'Age' empty record is: 177\n",
      "'Cabin' empty record is: 687\n",
      "'Embarked' empty record is: 2\n"
     ]
    }
   ],
   "source": [
    "# Check empty values\n",
    "for col in df.columns:\n",
    "    empty_count = df[col].isnull().sum()\n",
    "    if empty_count:\n",
    "        print(\"'{}' empty record is: {}\".format(col, empty_count))"
   ]
  },
  {
   "cell_type": "code",
   "execution_count": 47,
   "metadata": {
    "ExecuteTime": {
     "end_time": "2019-04-19T00:02:56.603950Z",
     "start_time": "2019-04-19T00:02:56.594993Z"
    }
   },
   "outputs": [
    {
     "name": "stdout",
     "output_type": "stream",
     "text": [
      "Number of original samples is 891\n",
      "Number after dropping empty is: 712\n"
     ]
    }
   ],
   "source": [
    "# Drop empty values\n",
    "clean_df = df.drop(['Cabin'], axis=1)\n",
    "clean_df = clean_df.dropna()\n",
    "print('Number of original samples is {}'.format(df.shape[0]))\n",
    "print('Number after dropping empty is: {}'.format(clean_df.shape[0]))   "
   ]
  },
  {
   "cell_type": "code",
   "execution_count": 48,
   "metadata": {
    "ExecuteTime": {
     "end_time": "2019-04-19T00:02:56.757186Z",
     "start_time": "2019-04-19T00:02:56.605778Z"
    }
   },
   "outputs": [
    {
     "data": {
      "image/png": "[encoded data removed]",
      "text/plain": [
       "<Figure size 576x432 with 1 Axes>"
      ]
     },
     "metadata": {
      "needs_background": "light"
     },
     "output_type": "display_data"
    }
   ],
   "source": [
    "# Display the scatter plot between age and fare\n",
    "fares = clean_df['Fare'].tolist()\n",
    "ages = clean_df['Age'].tolist()\n",
    "\n",
    "plt.figure(figsize = (8, 6))\n",
    "plt.scatter(ages, fares)\n",
    "plt.show()"
   ]
  },
  {
   "cell_type": "code",
   "execution_count": 49,
   "metadata": {
    "ExecuteTime": {
     "end_time": "2019-04-19T00:02:56.788192Z",
     "start_time": "2019-04-19T00:02:56.759452Z"
    }
   },
   "outputs": [
    {
     "data": {
      "text/html": [
       "<div>\n",
       "<style scoped>\n",
       "    .dataframe tbody tr th:only-of-type {\n",
       "        vertical-align: middle;\n",
       "    }\n",
       "\n",
       "    .dataframe tbody tr th {\n",
       "        vertical-align: top;\n",
       "    }\n",
       "\n",
       "    .dataframe thead th {\n",
       "        text-align: right;\n",
       "    }\n",
       "</style>\n",
       "<table border=\"1\" class=\"dataframe\">\n",
       "  <thead>\n",
       "    <tr style=\"text-align: right;\">\n",
       "      <th></th>\n",
       "      <th>PassengerId</th>\n",
       "      <th>Survived</th>\n",
       "      <th>Pclass</th>\n",
       "      <th>Age</th>\n",
       "      <th>SibSp</th>\n",
       "      <th>Parch</th>\n",
       "      <th>Fare</th>\n",
       "    </tr>\n",
       "  </thead>\n",
       "  <tbody>\n",
       "    <tr>\n",
       "      <th>count</th>\n",
       "      <td>712.000000</td>\n",
       "      <td>712.000000</td>\n",
       "      <td>712.000000</td>\n",
       "      <td>712.000000</td>\n",
       "      <td>712.000000</td>\n",
       "      <td>712.000000</td>\n",
       "      <td>712.000000</td>\n",
       "    </tr>\n",
       "    <tr>\n",
       "      <th>mean</th>\n",
       "      <td>448.589888</td>\n",
       "      <td>0.404494</td>\n",
       "      <td>2.240169</td>\n",
       "      <td>29.642093</td>\n",
       "      <td>0.514045</td>\n",
       "      <td>0.432584</td>\n",
       "      <td>34.567251</td>\n",
       "    </tr>\n",
       "    <tr>\n",
       "      <th>std</th>\n",
       "      <td>258.683191</td>\n",
       "      <td>0.491139</td>\n",
       "      <td>0.836854</td>\n",
       "      <td>14.492933</td>\n",
       "      <td>0.930692</td>\n",
       "      <td>0.854181</td>\n",
       "      <td>52.938648</td>\n",
       "    </tr>\n",
       "    <tr>\n",
       "      <th>min</th>\n",
       "      <td>1.000000</td>\n",
       "      <td>0.000000</td>\n",
       "      <td>1.000000</td>\n",
       "      <td>0.420000</td>\n",
       "      <td>0.000000</td>\n",
       "      <td>0.000000</td>\n",
       "      <td>0.000000</td>\n",
       "    </tr>\n",
       "    <tr>\n",
       "      <th>25%</th>\n",
       "      <td>222.750000</td>\n",
       "      <td>0.000000</td>\n",
       "      <td>1.000000</td>\n",
       "      <td>20.000000</td>\n",
       "      <td>0.000000</td>\n",
       "      <td>0.000000</td>\n",
       "      <td>8.050000</td>\n",
       "    </tr>\n",
       "    <tr>\n",
       "      <th>50%</th>\n",
       "      <td>445.000000</td>\n",
       "      <td>0.000000</td>\n",
       "      <td>2.000000</td>\n",
       "      <td>28.000000</td>\n",
       "      <td>0.000000</td>\n",
       "      <td>0.000000</td>\n",
       "      <td>15.645850</td>\n",
       "    </tr>\n",
       "    <tr>\n",
       "      <th>75%</th>\n",
       "      <td>677.250000</td>\n",
       "      <td>1.000000</td>\n",
       "      <td>3.000000</td>\n",
       "      <td>38.000000</td>\n",
       "      <td>1.000000</td>\n",
       "      <td>1.000000</td>\n",
       "      <td>33.000000</td>\n",
       "    </tr>\n",
       "    <tr>\n",
       "      <th>max</th>\n",
       "      <td>891.000000</td>\n",
       "      <td>1.000000</td>\n",
       "      <td>3.000000</td>\n",
       "      <td>80.000000</td>\n",
       "      <td>5.000000</td>\n",
       "      <td>6.000000</td>\n",
       "      <td>512.329200</td>\n",
       "    </tr>\n",
       "  </tbody>\n",
       "</table>\n",
       "</div>"
      ],
      "text/plain": [
       "       PassengerId    Survived      Pclass         Age       SibSp  \\\n",
       "count   712.000000  712.000000  712.000000  712.000000  712.000000   \n",
       "mean    448.589888    0.404494    2.240169   29.642093    0.514045   \n",
       "std     258.683191    0.491139    0.836854   14.492933    0.930692   \n",
       "min       1.000000    0.000000    1.000000    0.420000    0.000000   \n",
       "25%     222.750000    0.000000    1.000000   20.000000    0.000000   \n",
       "50%     445.000000    0.000000    2.000000   28.000000    0.000000   \n",
       "75%     677.250000    1.000000    3.000000   38.000000    1.000000   \n",
       "max     891.000000    1.000000    3.000000   80.000000    5.000000   \n",
       "\n",
       "            Parch        Fare  \n",
       "count  712.000000  712.000000  \n",
       "mean     0.432584   34.567251  \n",
       "std      0.854181   52.938648  \n",
       "min      0.000000    0.000000  \n",
       "25%      0.000000    8.050000  \n",
       "50%      0.000000   15.645850  \n",
       "75%      1.000000   33.000000  \n",
       "max      6.000000  512.329200  "
      ]
     },
     "execution_count": 49,
     "metadata": {},
     "output_type": "execute_result"
    }
   ],
   "source": [
    "# View the statistical info \n",
    "clean_df.describe()"
   ]
  },
  {
   "cell_type": "code",
   "execution_count": 50,
   "metadata": {
    "ExecuteTime": {
     "end_time": "2019-04-19T00:02:56.799594Z",
     "start_time": "2019-04-19T00:02:56.790602Z"
    }
   },
   "outputs": [
    {
     "data": {
      "text/plain": [
       "(22, 11)"
      ]
     },
     "execution_count": 50,
     "metadata": {},
     "output_type": "execute_result"
    }
   ],
   "source": [
    "# Select partial data according to the specified condition\n",
    "age_with_fares = clean_df[\n",
    "    (clean_df['Age'] > 22) & (clean_df['Fare'] < 400) & (clean_df['Fare'] > 130)]\n",
    "age_with_fares.shape"
   ]
  },
  {
   "cell_type": "code",
   "execution_count": 51,
   "metadata": {
    "ExecuteTime": {
     "end_time": "2019-04-19T00:02:56.946227Z",
     "start_time": "2019-04-19T00:02:56.805208Z"
    }
   },
   "outputs": [
    {
     "data": {
      "image/png": "[encoded data removed]",
      "text/plain": [
       "<Figure size 576x432 with 1 Axes>"
      ]
     },
     "metadata": {
      "needs_background": "light"
     },
     "output_type": "display_data"
    }
   ],
   "source": [
    "# Display the scatter plot between age and fare\n",
    "sub_fare = age_with_fares['Fare']\n",
    "sub_age = age_with_fares['Age']\n",
    "\n",
    "plt.figure(figsize = (8, 6))\n",
    "plt.scatter(sub_age, sub_fare)\n",
    "plt.show()"
   ]
  },
  {
   "cell_type": "markdown",
   "metadata": {},
   "source": [
    "**Implement Gradient Descent method to get the best parameters**"
   ]
  },
  {
   "cell_type": "code",
   "execution_count": 52,
   "metadata": {
    "ExecuteTime": {
     "end_time": "2019-04-19T00:02:56.952891Z",
     "start_time": "2019-04-19T00:02:56.948137Z"
    }
   },
   "outputs": [],
   "source": [
    "# Build function to compute gradient and cost value\n",
    "def get_gradient(theta, X, y):\n",
    "    '''\n",
    "    According to current parameter theta to compute gradient and cost value.\n",
    "    Param:\n",
    "        - thera: current parameter\n",
    "        - X: input factor\n",
    "        - y: real value\n",
    "    Return:\n",
    "        - grad: current gradient\n",
    "        - cost: lost function value\n",
    "    '''\n",
    "    \n",
    "    M = X.shape[0]\n",
    "    y_pred = X.dot(theta)\n",
    "    error = y_pred - y\n",
    "    \n",
    "    # Implement the formula\n",
    "    grad = (1/M) * error.dot(X)\n",
    "    cost = (1/(2*M)) * np.sum(error ** 2)\n",
    "    \n",
    "    return grad, cost"
   ]
  },
  {
   "cell_type": "code",
   "execution_count": 53,
   "metadata": {
    "ExecuteTime": {
     "end_time": "2019-04-19T00:02:56.962282Z",
     "start_time": "2019-04-19T00:02:56.955178Z"
    }
   },
   "outputs": [],
   "source": [
    "# Build function to implement Gradient Descent\n",
    "def gradient_descent(X, y, alpha=0.01, max_iter=1000):\n",
    "    '''\n",
    "    Param:\n",
    "        - X: input factor\n",
    "        - y: real value\n",
    "        - alpha: learning rate, default value = 0.01\n",
    "        - max_iter: number of maximum iteration, default value = 1000    \n",
    "    Return:\n",
    "        - theta: the best theta after learning\n",
    "    '''\n",
    "    \n",
    "    # Set init theta by random choice\n",
    "    theta = np.random.randn(2)\n",
    "    \n",
    "    # Set converged threshold value\n",
    "    tolerance = 1e-3\n",
    "    \n",
    "    # Init iteration time\n",
    "    iteration = 1\n",
    "    \n",
    "    # Init flag\n",
    "    is_converged = False\n",
    "    \n",
    "    # Perform Gradient Descent\n",
    "    while not is_converged:\n",
    "        # Compute current gradient and cost value\n",
    "        grad, cost = get_gradient(theta, X, y)\n",
    "        \n",
    "        # Update theta\n",
    "        new_theta = theta - alpha * grad\n",
    "        \n",
    "        # Set stopping condition\n",
    "        if np.sum(abs(new_theta - theta)) < tolerance:\n",
    "            is_converged = True\n",
    "            print('Converged')\n",
    "        \n",
    "        # Print cost value every 500 iterations\n",
    "        if iteration % 500 == 0:\n",
    "            print('{} intertions, the cost value is {}'.format(iteration, cost))\n",
    "           \n",
    "        iteration += 1\n",
    "        theta = new_theta\n",
    "        \n",
    "        if iteration > max_iter:\n",
    "            is_converged = True\n",
    "            print('Reach the maximum iterations {}'.format(max_iter))\n",
    "        \n",
    "    return theta"
   ]
  },
  {
   "cell_type": "code",
   "execution_count": 54,
   "metadata": {
    "ExecuteTime": {
     "end_time": "2019-04-19T00:02:56.968132Z",
     "start_time": "2019-04-19T00:02:56.964599Z"
    }
   },
   "outputs": [],
   "source": [
    "# Set X values\n",
    "X = np.array(age_with_fares.loc[:,'Age']).reshape(-1,1)\n",
    "X = np.hstack((np.ones_like(X), X))"
   ]
  },
  {
   "cell_type": "code",
   "execution_count": 55,
   "metadata": {
    "ExecuteTime": {
     "end_time": "2019-04-19T00:02:56.974814Z",
     "start_time": "2019-04-19T00:02:56.970155Z"
    }
   },
   "outputs": [
    {
     "data": {
      "text/plain": [
       "(22, 2)"
      ]
     },
     "execution_count": 55,
     "metadata": {},
     "output_type": "execute_result"
    }
   ],
   "source": [
    "X.shape"
   ]
  },
  {
   "cell_type": "code",
   "execution_count": 56,
   "metadata": {
    "ExecuteTime": {
     "end_time": "2019-04-19T00:02:56.982060Z",
     "start_time": "2019-04-19T00:02:56.976988Z"
    }
   },
   "outputs": [
    {
     "data": {
      "text/plain": [
       "array([[ 1., 23.],\n",
       "       [ 1., 24.],\n",
       "       [ 1., 58.],\n",
       "       [ 1., 58.],\n",
       "       [ 1., 35.]])"
      ]
     },
     "execution_count": 56,
     "metadata": {},
     "output_type": "execute_result"
    }
   ],
   "source": [
    "X[:5]"
   ]
  },
  {
   "cell_type": "code",
   "execution_count": 57,
   "metadata": {
    "ExecuteTime": {
     "end_time": "2019-04-19T00:02:56.990640Z",
     "start_time": "2019-04-19T00:02:56.984119Z"
    }
   },
   "outputs": [
    {
     "data": {
      "text/plain": [
       "array([263.    , 247.5208, 146.5208, 153.4625, 135.6333])"
      ]
     },
     "execution_count": 57,
     "metadata": {},
     "output_type": "execute_result"
    }
   ],
   "source": [
    "# Set y values\n",
    "y = np.array(age_with_fares.loc[:,'Fare'])\n",
    "y[:5]"
   ]
  },
  {
   "cell_type": "code",
   "execution_count": 58,
   "metadata": {
    "ExecuteTime": {
     "end_time": "2019-04-19T00:02:56.998829Z",
     "start_time": "2019-04-19T00:02:56.993391Z"
    }
   },
   "outputs": [],
   "source": [
    "# Set alpha and maximum iteration\n",
    "alpha = 0.001\n",
    "max_iter = 10000"
   ]
  },
  {
   "cell_type": "code",
   "execution_count": 59,
   "metadata": {
    "ExecuteTime": {
     "end_time": "2019-04-19T00:02:57.249585Z",
     "start_time": "2019-04-19T00:02:57.001721Z"
    }
   },
   "outputs": [
    {
     "name": "stdout",
     "output_type": "stream",
     "text": [
      "500 intertions, the cost value is 2841.662485432319\n",
      "1000 intertions, the cost value is 2709.930579778532\n",
      "1500 intertions, the cost value is 2588.2069465476316\n",
      "2000 intertions, the cost value is 2475.7312117330825\n",
      "2500 intertions, the cost value is 2371.8007704023075\n",
      "3000 intertions, the cost value is 2275.766397717221\n",
      "3500 intertions, the cost value is 2187.028193405493\n",
      "4000 intertions, the cost value is 2105.0318343488075\n",
      "4500 intertions, the cost value is 2029.2651118790327\n",
      "5000 intertions, the cost value is 1959.2547321517654\n",
      "5500 intertions, the cost value is 1894.5633596100602\n",
      "6000 intertions, the cost value is 1834.7868850696764\n",
      "6500 intertions, the cost value is 1779.551901360315\n",
      "7000 intertions, the cost value is 1728.513370753893\n",
      "7500 intertions, the cost value is 1681.3524696089\n",
      "8000 intertions, the cost value is 1637.7745967669237\n",
      "8500 intertions, the cost value is 1597.5075332603778\n",
      "9000 intertions, the cost value is 1560.2997418355872\n",
      "9500 intertions, the cost value is 1525.9187956688625\n",
      "10000 intertions, the cost value is 1494.1499264601503\n",
      "Reach the maximum iterations 10000\n",
      "The parameters for linear model are: [120.37229269   1.52768671]\n"
     ]
    }
   ],
   "source": [
    "theta = gradient_descent(X, y, alpha, max_iter)\n",
    "print('The parameters for linear model are:', theta)"
   ]
  },
  {
   "cell_type": "markdown",
   "metadata": {},
   "source": [
    "**In fact, because that the relative coefficient between 'Age' and 'Fare' almost equal to zeor, it is difficult to get a satisfied result.**"
   ]
  },
  {
   "cell_type": "code",
   "execution_count": 60,
   "metadata": {
    "ExecuteTime": {
     "end_time": "2019-04-19T00:02:57.375607Z",
     "start_time": "2019-04-19T00:02:57.252003Z"
    }
   },
   "outputs": [
    {
     "data": {
      "image/png": "[encoded data removed]",
      "text/plain": [
       "<Figure size 576x432 with 1 Axes>"
      ]
     },
     "metadata": {
      "needs_background": "light"
     },
     "output_type": "display_data"
    }
   ],
   "source": [
    "# Display the result\n",
    "y_pred = theta[0] + theta[1] * X[:, 1]\n",
    "plt.figure(figsize = (8, 6))\n",
    "\n",
    "# Draw the scatter plot\n",
    "plt.scatter(X[:, 1], y)\n",
    "\n",
    "# Draw the fit line\n",
    "plt.plot(X[:, 1], y_pred, c='red')\n",
    "plt.show()"
   ]
  },
  {
   "cell_type": "markdown",
   "metadata": {},
   "source": [
    "----"
   ]
  },
  {
   "cell_type": "code",
   "execution_count": 61,
   "metadata": {
    "ExecuteTime": {
     "end_time": "2019-04-19T00:02:57.381481Z",
     "start_time": "2019-04-19T00:02:57.377870Z"
    }
   },
   "outputs": [],
   "source": [
    "def func(age, k, b): return k * age + b"
   ]
  },
  {
   "cell_type": "code",
   "execution_count": 62,
   "metadata": {
    "ExecuteTime": {
     "end_time": "2019-04-19T00:02:57.386924Z",
     "start_time": "2019-04-19T00:02:57.383711Z"
    }
   },
   "outputs": [],
   "source": [
    "def loss(y, yhat):\n",
    "    \"\"\"\n",
    "    :param y: the real fares\n",
    "    :param yhat: the estimated fares\n",
    "    :return: how good is the estimated fares\n",
    "    \"\"\"\n",
    "\n",
    "    return np.mean(np.abs(y - yhat))\n",
    "    # return np.mean(np.square(y - yhat))\n",
    "    # return np.mean(np.sqrt(y - yhat))"
   ]
  },
  {
   "cell_type": "code",
   "execution_count": 63,
   "metadata": {
    "ExecuteTime": {
     "end_time": "2019-04-19T00:02:57.391998Z",
     "start_time": "2019-04-19T00:02:57.388971Z"
    }
   },
   "outputs": [],
   "source": [
    "min_error_rate = float('inf')"
   ]
  },
  {
   "cell_type": "code",
   "execution_count": 64,
   "metadata": {
    "ExecuteTime": {
     "end_time": "2019-04-19T00:02:57.398025Z",
     "start_time": "2019-04-19T00:02:57.394479Z"
    }
   },
   "outputs": [],
   "source": [
    "loop_times = 10000"
   ]
  },
  {
   "cell_type": "code",
   "execution_count": 65,
   "metadata": {
    "ExecuteTime": {
     "end_time": "2019-04-19T00:02:57.403400Z",
     "start_time": "2019-04-19T00:02:57.400316Z"
    }
   },
   "outputs": [],
   "source": [
    "losses = []"
   ]
  },
  {
   "cell_type": "code",
   "execution_count": 66,
   "metadata": {
    "ExecuteTime": {
     "end_time": "2019-04-19T00:02:57.409573Z",
     "start_time": "2019-04-19T00:02:57.405563Z"
    }
   },
   "outputs": [],
   "source": [
    "change_directions = [\n",
    "    # (k, b)\n",
    "    (+1, -1), # k increase, b decrease\n",
    "    (+1, +1),\n",
    "    (-1, +1),\n",
    "    (-1, -1)  # k decrease, b decrease\n",
    "]"
   ]
  },
  {
   "cell_type": "code",
   "execution_count": 67,
   "metadata": {
    "ExecuteTime": {
     "end_time": "2019-04-19T00:02:57.415236Z",
     "start_time": "2019-04-19T00:02:57.411614Z"
    }
   },
   "outputs": [],
   "source": [
    "k_hat = random.random() * 20 - 10\n",
    "b_hat = random.random() * 20 - 10"
   ]
  },
  {
   "cell_type": "code",
   "execution_count": 68,
   "metadata": {
    "ExecuteTime": {
     "end_time": "2019-04-19T00:02:57.424860Z",
     "start_time": "2019-04-19T00:02:57.417992Z"
    }
   },
   "outputs": [],
   "source": [
    "best_k, best_b = k_hat, b_hat\n",
    "\n",
    "best_direction = None"
   ]
  },
  {
   "cell_type": "code",
   "execution_count": 69,
   "metadata": {
    "ExecuteTime": {
     "end_time": "2019-04-19T00:02:57.434323Z",
     "start_time": "2019-04-19T00:02:57.428258Z"
    }
   },
   "outputs": [],
   "source": [
    "def step(): return random.random() * 1"
   ]
  },
  {
   "cell_type": "code",
   "execution_count": 70,
   "metadata": {
    "ExecuteTime": {
     "end_time": "2019-04-19T00:02:57.440162Z",
     "start_time": "2019-04-19T00:02:57.436884Z"
    }
   },
   "outputs": [],
   "source": [
    "direction = random.choice(change_directions)"
   ]
  },
  {
   "cell_type": "code",
   "execution_count": 71,
   "metadata": {
    "ExecuteTime": {
     "end_time": "2019-04-19T00:02:57.446015Z",
     "start_time": "2019-04-19T00:02:57.442102Z"
    }
   },
   "outputs": [],
   "source": [
    "def derivate_k(y, yhat, x):\n",
    "    abs_values = [1 if (y_i - yhat_i) > 0 else -1 for y_i, yhat_i in zip(y, yhat)]\n",
    "\n",
    "    return np.mean([a * -x_i for a, x_i in zip(abs_values, x)])"
   ]
  },
  {
   "cell_type": "code",
   "execution_count": 72,
   "metadata": {
    "ExecuteTime": {
     "end_time": "2019-04-19T00:02:57.455420Z",
     "start_time": "2019-04-19T00:02:57.449248Z"
    }
   },
   "outputs": [],
   "source": [
    "def derivate_b(y, yhat):\n",
    "    abs_values = [1 if (y_i - yhat_i) > 0 else -1 for y_i, yhat_i in zip(y, yhat)]\n",
    "    return np.mean([a * -1 for a in abs_values])"
   ]
  },
  {
   "cell_type": "code",
   "execution_count": 73,
   "metadata": {
    "ExecuteTime": {
     "end_time": "2019-04-19T00:02:57.461462Z",
     "start_time": "2019-04-19T00:02:57.458836Z"
    }
   },
   "outputs": [],
   "source": [
    "learing_rate = 1e-1"
   ]
  },
  {
   "cell_type": "code",
   "execution_count": 74,
   "metadata": {
    "ExecuteTime": {
     "end_time": "2019-04-19T00:03:09.051829Z",
     "start_time": "2019-04-19T00:02:57.463704Z"
    }
   },
   "outputs": [
    {
     "name": "stdout",
     "output_type": "stream",
     "text": [
      "loop == 10000\n",
      "f(age) = 6.886533252015635 * age + 6.8712131973430886, with error rate: 60.590027686172014\n",
      "loop == 9500\n",
      "f(age) = 6.886533252015635 * age + 6.8712131973430886, with error rate: 64.0458942957166\n",
      "loop == 9000\n",
      "f(age) = 6.886533252015635 * age + 6.8712131973430886, with error rate: 58.057360292868104\n",
      "loop == 8500\n",
      "f(age) = 6.886533252015635 * age + 6.8712131973430886, with error rate: 57.39399876796477\n",
      "loop == 8000\n",
      "f(age) = 6.886533252015635 * age + 6.8712131973430886, with error rate: 56.569756987082876\n",
      "loop == 7500\n",
      "f(age) = 6.886533252015635 * age + 6.8712131973430886, with error rate: 55.99041814410766\n",
      "loop == 7000\n",
      "f(age) = 6.886533252015635 * age + 6.8712131973430886, with error rate: 55.411079301132425\n",
      "loop == 6500\n",
      "f(age) = 6.886533252015635 * age + 6.8712131973430886, with error rate: 54.586560751437126\n",
      "loop == 6000\n",
      "f(age) = 6.886533252015635 * age + 6.8712131973430886, with error rate: 53.923475995347296\n",
      "loop == 5500\n",
      "f(age) = 6.886533252015635 * age + 6.8712131973430886, with error rate: 53.34413715237208\n",
      "loop == 5000\n",
      "f(age) = 6.886533252015635 * age + 6.8712131973430886, with error rate: 52.69730455309071\n",
      "loop == 4500\n",
      "f(age) = 6.886533252015635 * age + 6.8712131973430886, with error rate: 52.119340876080926\n",
      "loop == 4000\n",
      "f(age) = 6.886533252015635 * age + 6.8712131973430886, with error rate: 51.64289748294983\n",
      "loop == 3500\n",
      "f(age) = 6.886533252015635 * age + 6.8712131973430886, with error rate: 50.82264954906525\n",
      "loop == 3000\n",
      "f(age) = 6.886533252015635 * age + 6.8712131973430886, with error rate: 50.180087565593915\n",
      "loop == 2500\n",
      "f(age) = 6.886533252015635 * age + 6.8712131973430886, with error rate: 49.68339335071764\n",
      "loop == 2000\n",
      "f(age) = 6.886533252015635 * age + 6.8712131973430886, with error rate: 48.863971863114095\n",
      "loop == 1500\n",
      "f(age) = 6.886533252015635 * age + 6.8712131973430886, with error rate: 48.2346330201387\n",
      "loop == 1000\n",
      "f(age) = 6.886533252015635 * age + 6.8712131973430886, with error rate: 47.62678178046912\n",
      "loop == 500\n",
      "f(age) = 6.886533252015635 * age + 6.8712131973430886, with error rate: 46.852950334863046\n"
     ]
    }
   ],
   "source": [
    "while loop_times > 0:\n",
    "\n",
    "    k_delta = -1 * learing_rate * derivate_k(sub_fare, func(sub_age, k_hat, b_hat), sub_age)\n",
    "    b_delta = -1 * learing_rate * derivate_b(sub_fare, func(sub_age, k_hat, b_hat))\n",
    "\n",
    "    # k_delta_direction, b_delta_direction = direction\n",
    "    #\n",
    "    # k_delta = k_delta_direction * step()\n",
    "    # b_delta = b_delta_direction * step()\n",
    "    #\n",
    "    # new_k = best_k + k_delta\n",
    "    # new_b = best_b + b_delta\n",
    "\n",
    "    k_hat += k_delta\n",
    "    b_hat += b_delta\n",
    "\n",
    "    estimated_fares = func(sub_age, k_hat, b_hat)\n",
    "    error_rate = loss(y=sub_fare, yhat=estimated_fares)\n",
    "\n",
    "    # if error_rate < min_error_rate:\n",
    "    #     min_error_rate = error_rate\n",
    "    #     best_k, best_b = new_k, new_b\n",
    "        # best_k, best_b = k_hat, b_hat\n",
    "\n",
    "        # direction = (k_delta_direction, b_delta_direction)\n",
    "\n",
    "        # print(min_error_rate)\n",
    "    if loop_times % 500 == 0:\n",
    "        print('loop == {}'.format(loop_times))\n",
    "            # losses.append(min_error_rate)\n",
    "        print('f(age) = {} * age + {}, with error rate: {}'.format(best_k, best_b, error_rate))\n",
    "        # else:\n",
    "        #     direction = random.choice(list(set(change_directions) - {(k_delta_direction, b_delta_direction)}))\n",
    "\n",
    "    losses.append(error_rate)\n",
    "\n",
    "    loop_times -= 1"
   ]
  },
  {
   "cell_type": "code",
   "execution_count": 75,
   "metadata": {
    "ExecuteTime": {
     "end_time": "2019-04-19T00:03:09.222590Z",
     "start_time": "2019-04-19T00:03:09.053843Z"
    }
   },
   "outputs": [
    {
     "data": {
      "image/png": "[encoded data removed]",
      "text/plain": [
       "<Figure size 432x288 with 1 Axes>"
      ]
     },
     "metadata": {
      "needs_background": "light"
     },
     "output_type": "display_data"
    }
   ],
   "source": [
    "plt.scatter(sub_age, sub_fare)\n",
    "plt.plot(sub_age, func(sub_age, best_k, best_b), c='r')\n",
    "plt.plot(sub_age, func(sub_age, k_hat, b_hat), c='r')\n",
    "plt.show()"
   ]
  }
 ],
 "metadata": {
  "kernelspec": {
   "display_name": "Python 3",
   "language": "python",
   "name": "python3"
  },
  "language_info": {
   "codemirror_mode": {
    "name": "ipython",
    "version": 3
   },
   "file_extension": ".py",
   "mimetype": "text/x-python",
   "name": "python",
   "nbconvert_exporter": "python",
   "pygments_lexer": "ipython3",
   "version": "3.7.2"
  },
  "toc": {
   "base_numbering": 1,
   "nav_menu": {},
   "number_sections": false,
   "sideBar": true,
   "skip_h1_title": true,
   "title_cell": "Table of Contents",
   "title_sidebar": "Contents",
   "toc_cell": false,
   "toc_position": {},
   "toc_section_display": true,
   "toc_window_display": true
  }
 },
 "nbformat": 4,
 "nbformat_minor": 2
}
