{
 "cells": [
  {
   "cell_type": "markdown",
   "metadata": {},
   "source": [
    "## Map Search"
   ]
  },
  {
   "cell_type": "code",
   "execution_count": 1,
   "metadata": {},
   "outputs": [],
   "source": [
    "# Set Cities\n",
    "city = 'BEIJING CHANGCHUN MULUMUQI WUHAN GUANGZHOU SHENZHEN BANGKOK SHANGHAI NEWYORK'\n",
    "BEIJING, CHANGCHUN, MULUMUQI, WUHAN, GUANGZHOU, SHENZHEN, BANGKOK, SHANGHAI, NEWYORK = city.split()"
   ]
  },
  {
   "cell_type": "code",
   "execution_count": 2,
   "metadata": {},
   "outputs": [],
   "source": [
    "# Set connections\n",
    "connection = {\n",
    "    CHANGCHUN: [BEIJING],\n",
    "    MULUMUQI: [BEIJING], \n",
    "    BEIJING: [MULUMUQI, CHANGCHUN, WUHAN, SHENZHEN, NEWYORK],\n",
    "    NEWYORK: [BEIJING, SHANGHAI],\n",
    "    SHANGHAI: [NEWYORK, WUHAN],\n",
    "    # To keep consistence, add SHENZHEN\n",
    "    WUHAN: [SHANGHAI, BEIJING, GUANGZHOU, SHENZHEN],\n",
    "    GUANGZHOU: [WUHAN, BANGKOK],\n",
    "    SHENZHEN: [WUHAN, BANGKOK],\n",
    "    BANGKOK: [SHENZHEN, GUANGZHOU]\n",
    "}"
   ]
  },
  {
   "cell_type": "code",
   "execution_count": 3,
   "metadata": {},
   "outputs": [],
   "source": [
    "import networkx as nx\n",
    "import matplotlib.pyplot as plt\n",
    "%matplotlib inline"
   ]
  },
  {
   "cell_type": "code",
   "execution_count": 4,
   "metadata": {},
   "outputs": [
    {
     "name": "stderr",
     "output_type": "stream",
     "text": [
      "/Users/ryne/anaconda3/lib/python3.7/site-packages/networkx/drawing/nx_pylab.py:611: MatplotlibDeprecationWarning: isinstance(..., numbers.Number)\n",
      "  if cb.is_numlike(alpha):\n"
     ]
    },
    {
     "data": {
      "image/png": "[encoded data removed]",
      "text/plain": [
       "<Figure size 432x288 with 1 Axes>"
      ]
     },
     "metadata": {},
     "output_type": "display_data"
    }
   ],
   "source": [
    "graph = connection\n",
    "g = nx.Graph(graph)\n",
    "nx.draw(g)\n",
    "plt.show()"
   ]
  },
  {
   "cell_type": "code",
   "execution_count": 5,
   "metadata": {},
   "outputs": [],
   "source": [
    "def nagivator(start, destination, connection):\n",
    "    pathes = [[start]]\n",
    "    seen = set()\n",
    "    \n",
    "    while pathes:\n",
    "        path = pathes.pop(0)\n",
    "        frontier = path[-1]\n",
    "        \n",
    "        if frontier in seen: continue\n",
    "        \n",
    "        successors = connection[frontier]\n",
    "        \n",
    "        for s in successors:\n",
    "            if s == destination:\n",
    "                path.append(s)\n",
    "                return path\n",
    "            else:\n",
    "                pathes.append(path + [s])\n",
    "                \n",
    "        # This statment is useless  \n",
    "        # pathes = sorted(pathes, key=len)\n",
    "        \n",
    "        seen.add(frontier)"
   ]
  },
  {
   "cell_type": "code",
   "execution_count": 6,
   "metadata": {},
   "outputs": [
    {
     "data": {
      "text/plain": [
       "['MULUMUQI', 'BEIJING', 'SHENZHEN', 'BANGKOK']"
      ]
     },
     "execution_count": 6,
     "metadata": {},
     "output_type": "execute_result"
    }
   ],
   "source": [
    "# test\n",
    "nagivator(MULUMUQI, BANGKOK, connection)"
   ]
  },
  {
   "cell_type": "code",
   "execution_count": 7,
   "metadata": {},
   "outputs": [
    {
     "name": "stdout",
     "output_type": "stream",
     "text": [
      "init path: ['BEIJING']\n",
      "init pathes: []\n",
      "-----------------------\n",
      "frontier: BEIJING\n",
      "-----------------------\n",
      "successors: ['MULUMUQI', 'CHANGCHUN', 'WUHAN', 'SHENZHEN', 'NEWYORK']\n",
      "-----------------------\n",
      "finall pathes: [['BEIJING', 'MULUMUQI'], ['BEIJING', 'CHANGCHUN'], ['BEIJING', 'WUHAN'], ['BEIJING', 'SHENZHEN'], ['BEIJING', 'NEWYORK']]\n",
      "-----------------------\n",
      "sorted finall pathes: [['BEIJING', 'MULUMUQI'], ['BEIJING', 'CHANGCHUN'], ['BEIJING', 'WUHAN'], ['BEIJING', 'SHENZHEN'], ['BEIJING', 'NEWYORK']]\n",
      "-----------------------\n",
      "seen: {'BEIJING'}\n"
     ]
    }
   ],
   "source": [
    "# test detail\n",
    "start = BEIJING\n",
    "destination = GUANGZHOU\n",
    "\n",
    "seen = set()\n",
    "pathes = [[start]]\n",
    "path = pathes.pop(0)\n",
    "\n",
    "print('init path:', path)\n",
    "print('init pathes:', pathes)\n",
    "print('-----------------------')\n",
    "\n",
    "frontier = path[-1]\n",
    "print('frontier:', frontier)\n",
    "print('-----------------------')\n",
    "\n",
    "if frontier in seen:\n",
    "    print('Continue!')\n",
    "    print('-----------------------')\n",
    "\n",
    "\n",
    "successors = connection[frontier]\n",
    "print('successors:', successors)\n",
    "print('-----------------------')\n",
    "\n",
    "\n",
    "for s in successors:\n",
    "    if s == destination: \n",
    "        path.append(s)\n",
    "        print('return path:', path)\n",
    "        print('-----------------------')\n",
    "    else:\n",
    "        pathes.append(path + [s])\n",
    "\n",
    "print('finall pathes:', pathes)\n",
    "print('-----------------------')\n",
    "\n",
    "pathes = sorted(pathes, key=len)\n",
    "print('sorted finall pathes:', pathes)\n",
    "print('-----------------------')\n",
    "\n",
    "seen.add(frontier)\n",
    "print('seen:' , seen)        "
   ]
  },
  {
   "cell_type": "code",
   "execution_count": 8,
   "metadata": {},
   "outputs": [],
   "source": [
    "# # test detail\n",
    "# path = pathes.pop(0)\n",
    "\n",
    "# print('current path:', path)\n",
    "# print('current pathes:', pathes)\n",
    "# print('-----------------------')\n",
    "\n",
    "# frontier = path[-1]\n",
    "# print('frontier:', frontier)\n",
    "# print('-----------------------')\n",
    "\n",
    "# if frontier in seen:\n",
    "#     print('Continue!')\n",
    "#     print('-----------------------')\n",
    "\n",
    "\n",
    "# successors = connection[frontier]\n",
    "# print('successors:', successors)\n",
    "# print('-----------------------')\n",
    "\n",
    "\n",
    "# for s in successors:\n",
    "#     if s == destination: \n",
    "#         path.append(s)\n",
    "#         print('return path:', path)\n",
    "#         print('-----------------------')\n",
    "#     else:\n",
    "#         pathes.append(path + [s])\n",
    "\n",
    "# print('finall pathes:', pathes)\n",
    "# print('-----------------------')\n",
    "\n",
    "# pathes = sorted(pathes, key=len)\n",
    "# print('sorted finall pathes:', pathes)\n",
    "# print('-----------------------')\n",
    "\n",
    "# seen.add(frontier)\n",
    "# print('seen:' , seen)     "
   ]
  },
  {
   "cell_type": "code",
   "execution_count": 9,
   "metadata": {},
   "outputs": [],
   "source": [
    "# # test detail\n",
    "# path = pathes.pop(0)\n",
    "\n",
    "# print('current path:', path)\n",
    "# print('current pathes:', pathes)\n",
    "# print('-----------------------')\n",
    "\n",
    "# frontier = path[-1]\n",
    "# print('frontier:', frontier)\n",
    "# print('-----------------------')\n",
    "\n",
    "# if frontier in seen:\n",
    "#     print('Continue!')\n",
    "#     print('-----------------------')\n",
    "\n",
    "\n",
    "# successors = connection[frontier]\n",
    "# print('successors:', successors)\n",
    "# print('-----------------------')\n",
    "\n",
    "\n",
    "# for s in successors:\n",
    "#     if s == destination: \n",
    "#         path.append(s)\n",
    "#         print('return path:', path)\n",
    "#         print('-----------------------')\n",
    "#     else:\n",
    "#         pathes.append(path + [s])\n",
    "\n",
    "# print('finall pathes:', pathes)\n",
    "# print('-----------------------')\n",
    "\n",
    "# pathes = sorted(pathes, key=len)\n",
    "# print('sorted finall pathes:', pathes)\n",
    "# print('-----------------------')\n",
    "\n",
    "# seen.add(frontier)\n",
    "# print('seen:' , seen)     "
   ]
  },
  {
   "cell_type": "code",
   "execution_count": 10,
   "metadata": {},
   "outputs": [],
   "source": [
    "# # test detail\n",
    "# path = pathes.pop(0)\n",
    "\n",
    "# print('current path:', path)\n",
    "# print('current pathes:', pathes)\n",
    "# print('-----------------------')\n",
    "\n",
    "# frontier = path[-1]\n",
    "# print('frontier:', frontier)\n",
    "# print('-----------------------')\n",
    "\n",
    "# if frontier in seen:\n",
    "#     print('Continue!')\n",
    "#     print('-----------------------')\n",
    "\n",
    "\n",
    "# successors = connection[frontier]\n",
    "# print('successors:', successors)\n",
    "# print('-----------------------')\n",
    "\n",
    "\n",
    "# for s in successors:\n",
    "#     if s == destination: \n",
    "#         path.append(s)\n",
    "#         print('return path:', path)\n",
    "#         print('-----------------------')\n",
    "#     else:\n",
    "#         pathes.append(path + [s])\n",
    "\n",
    "# print('finall pathes:', pathes)\n",
    "# print('-----------------------')\n",
    "\n",
    "# pathes = sorted(pathes, key=len)\n",
    "# print('sorted finall pathes:', pathes)\n",
    "# print('-----------------------')\n",
    "\n",
    "# seen.add(frontier)\n",
    "# print('seen:' , seen)     "
   ]
  },
  {
   "cell_type": "code",
   "execution_count": 11,
   "metadata": {},
   "outputs": [],
   "source": [
    "def nagivator_bfs(start, destination, connection):\n",
    "    pathes = [start]\n",
    "    seen = set()\n",
    "    \n",
    "    while pathes:\n",
    "        \n",
    "        frontier = pathes.pop(0)\n",
    "        \n",
    "        if frontier in seen: continue\n",
    "            \n",
    "        successors = connection[frontier]\n",
    "        print('standing on {} Looking forward {}'.format(frontier, successors))\n",
    "        pathes = pathes + successors\n",
    "                \n",
    "        seen.add(frontier)"
   ]
  },
  {
   "cell_type": "code",
   "execution_count": 12,
   "metadata": {},
   "outputs": [
    {
     "name": "stdout",
     "output_type": "stream",
     "text": [
      "standing on BEIJING Looking forward ['MULUMUQI', 'CHANGCHUN', 'WUHAN', 'SHENZHEN', 'NEWYORK']\n",
      "standing on MULUMUQI Looking forward ['BEIJING']\n",
      "standing on CHANGCHUN Looking forward ['BEIJING']\n",
      "standing on WUHAN Looking forward ['SHANGHAI', 'BEIJING', 'GUANGZHOU', 'SHENZHEN']\n",
      "standing on SHENZHEN Looking forward ['WUHAN', 'BANGKOK']\n",
      "standing on NEWYORK Looking forward ['BEIJING', 'SHANGHAI']\n",
      "standing on SHANGHAI Looking forward ['NEWYORK', 'WUHAN']\n",
      "standing on GUANGZHOU Looking forward ['WUHAN', 'BANGKOK']\n",
      "standing on BANGKOK Looking forward ['SHENZHEN', 'GUANGZHOU']\n"
     ]
    }
   ],
   "source": [
    "# test\n",
    "nagivator_bfs(BEIJING, SHENZHEN, connection)"
   ]
  },
  {
   "cell_type": "code",
   "execution_count": 13,
   "metadata": {},
   "outputs": [],
   "source": [
    "def nagivator_dfs(start, destination, connection):\n",
    "    pathes = [start]\n",
    "    seen = set()\n",
    "    \n",
    "    while pathes:\n",
    "        froniter = pathes.pop(0)\n",
    "        \n",
    "        if froniter in seen: continue\n",
    "            \n",
    "        successors = connection[froniter]\n",
    "        print('standing on {} Looking forward {}'.format(froniter, successors))\n",
    "        pathes = successors + pathes\n",
    "                \n",
    "        seen.add(froniter)"
   ]
  },
  {
   "cell_type": "code",
   "execution_count": 14,
   "metadata": {},
   "outputs": [],
   "source": [
    "connection_2 = {\n",
    "    0: [1, 5], \n",
    "    1: [0, 2], \n",
    "    2: [1, 3], \n",
    "    3: [2, 4], \n",
    "    4: [3],\n",
    "    5: [0, 6], \n",
    "    6: [5, 7],\n",
    "    7: [6]\n",
    "}"
   ]
  },
  {
   "cell_type": "code",
   "execution_count": 15,
   "metadata": {},
   "outputs": [
    {
     "data": {
      "image/png": "[encoded data removed]",
      "text/plain": [
       "<Figure size 432x288 with 1 Axes>"
      ]
     },
     "metadata": {},
     "output_type": "display_data"
    }
   ],
   "source": [
    "nx.draw(nx.Graph(connection_2))"
   ]
  },
  {
   "cell_type": "code",
   "execution_count": 16,
   "metadata": {},
   "outputs": [
    {
     "name": "stdout",
     "output_type": "stream",
     "text": [
      "standing on 0 Looking forward [1, 5]\n",
      "standing on 1 Looking forward [0, 2]\n",
      "standing on 5 Looking forward [0, 6]\n",
      "standing on 2 Looking forward [1, 3]\n",
      "standing on 6 Looking forward [5, 7]\n",
      "standing on 3 Looking forward [2, 4]\n",
      "standing on 7 Looking forward [6]\n",
      "standing on 4 Looking forward [3]\n"
     ]
    }
   ],
   "source": [
    "nagivator_bfs(0, 7, connection_2)"
   ]
  },
  {
   "cell_type": "code",
   "execution_count": 17,
   "metadata": {},
   "outputs": [
    {
     "name": "stdout",
     "output_type": "stream",
     "text": [
      "standing on 0 Looking forward [1, 5]\n",
      "standing on 1 Looking forward [0, 2]\n",
      "standing on 2 Looking forward [1, 3]\n",
      "standing on 3 Looking forward [2, 4]\n",
      "standing on 4 Looking forward [3]\n",
      "standing on 5 Looking forward [0, 6]\n",
      "standing on 6 Looking forward [5, 7]\n",
      "standing on 7 Looking forward [6]\n"
     ]
    }
   ],
   "source": [
    "nagivator_dfs(0, 7, connection_2)"
   ]
  },
  {
   "cell_type": "markdown",
   "metadata": {},
   "source": [
    "## Sentence Generation"
   ]
  },
  {
   "cell_type": "code",
   "execution_count": 18,
   "metadata": {},
   "outputs": [],
   "source": [
    "grammar = \"\"\"\n",
    "sentence => noun_phrase verb_phrase \n",
    "noun_phrase => Article Adj* noun\n",
    "Adj* => null | Adj Adj*\n",
    "verb_phrase => verb noun_phrase\n",
    "Article =>  一个 | 这个\n",
    "noun =>   女人 |  篮球 | 桌子 | 小猫\n",
    "verb => 看着   |  坐在 |  听着 | 看见\n",
    "Adj =>   蓝色的 |  好看的 | 小小的\n",
    "\"\"\""
   ]
  },
  {
   "cell_type": "code",
   "execution_count": 19,
   "metadata": {},
   "outputs": [],
   "source": [
    "def parse_grammar(grammar_str, sep='=>'):\n",
    "    grammar = {}\n",
    "    for line in grammar_str.split('\\n'):\n",
    "        line = line.strip()\n",
    "        if not line: continue\n",
    "            \n",
    "        target, rules = line.split(sep)\n",
    "        \n",
    "        grammar[target.strip()] = [r.strip().split() for r in rules.split('|')]\n",
    "    \n",
    "    return grammar        "
   ]
  },
  {
   "cell_type": "code",
   "execution_count": 20,
   "metadata": {},
   "outputs": [
    {
     "data": {
      "text/plain": [
       "{'sentence': [['noun_phrase', 'verb_phrase']],\n",
       " 'noun_phrase': [['Article', 'Adj*', 'noun']],\n",
       " 'Adj*': [['null'], ['Adj', 'Adj*']],\n",
       " 'verb_phrase': [['verb', 'noun_phrase']],\n",
       " 'Article': [['一个'], ['这个']],\n",
       " 'noun': [['女人'], ['篮球'], ['桌子'], ['小猫']],\n",
       " 'verb': [['看着'], ['坐在'], ['听着'], ['看见']],\n",
       " 'Adj': [['蓝色的'], ['好看的'], ['小小的']]}"
      ]
     },
     "execution_count": 20,
     "metadata": {},
     "output_type": "execute_result"
    }
   ],
   "source": [
    "parsed = parse_grammar(grammar)\n",
    "parsed"
   ]
  },
  {
   "cell_type": "code",
   "execution_count": 21,
   "metadata": {},
   "outputs": [],
   "source": [
    "import random\n",
    "\n",
    "def gene(grammar_parsed, target='sentence'):\n",
    "    if target not in grammar_parsed: return target\n",
    "    \n",
    "    rule = random.choice(grammar_parsed[target])\n",
    "    \n",
    "    return ''.join(gene(grammar_parsed, target=r) for r in rule if r!='null')"
   ]
  },
  {
   "cell_type": "code",
   "execution_count": 22,
   "metadata": {},
   "outputs": [
    {
     "data": {
      "text/plain": [
       "['小猫']"
      ]
     },
     "execution_count": 22,
     "metadata": {},
     "output_type": "execute_result"
    }
   ],
   "source": [
    "r = random.choice(parsed['noun'])\n",
    "r"
   ]
  },
  {
   "cell_type": "code",
   "execution_count": 23,
   "metadata": {},
   "outputs": [
    {
     "data": {
      "text/plain": [
       "['null']"
      ]
     },
     "execution_count": 23,
     "metadata": {},
     "output_type": "execute_result"
    }
   ],
   "source": [
    "r = random.choice(parsed['Adj*'])\n",
    "r"
   ]
  },
  {
   "cell_type": "code",
   "execution_count": 24,
   "metadata": {},
   "outputs": [
    {
     "data": {
      "text/plain": [
       "'这个蓝色的小猫听着一个小小的篮球'"
      ]
     },
     "execution_count": 24,
     "metadata": {},
     "output_type": "execute_result"
    }
   ],
   "source": [
    "gene(parsed)"
   ]
  },
  {
   "cell_type": "code",
   "execution_count": 25,
   "metadata": {},
   "outputs": [],
   "source": [
    "decimal_grammar = \"\"\"\n",
    "expression = operator op operator\n",
    "operator = num op num\n",
    "num = 0 | 1 | 2 | 3 | 4 | 5 | 6 | 7 | 8 | 9 | num num\n",
    "op = + | - | * | /\n",
    "\"\"\""
   ]
  },
  {
   "cell_type": "code",
   "execution_count": 26,
   "metadata": {},
   "outputs": [
    {
     "name": "stdout",
     "output_type": "stream",
     "text": [
      "9*5-07+0\n",
      "7+3*8*1\n",
      "2-3-0-5\n",
      "5-5+43+7\n",
      "2-2+1/6\n",
      "4+6/2*81\n",
      "5*8*0/2\n",
      "0*3*9*8\n",
      "1/7/2+3\n",
      "86-5/1/9\n"
     ]
    }
   ],
   "source": [
    "for i in range(10):\n",
    "    print(gene(parse_grammar(decimal_grammar, sep='='), target='expression'))"
   ]
  }
 ],
 "metadata": {
  "kernelspec": {
   "display_name": "Python 3",
   "language": "python",
   "name": "python3"
  },
  "language_info": {
   "codemirror_mode": {
    "name": "ipython",
    "version": 3
   },
   "file_extension": ".py",
   "mimetype": "text/x-python",
   "name": "python",
   "nbconvert_exporter": "python",
   "pygments_lexer": "ipython3",
   "version": "3.7.2"
  }
 },
 "nbformat": 4,
 "nbformat_minor": 2
}
