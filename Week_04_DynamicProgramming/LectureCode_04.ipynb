{
 "cells": [
  {
   "cell_type": "markdown",
   "metadata": {},
   "source": [
    "# Dynamic Programming "
   ]
  },
  {
   "cell_type": "markdown",
   "metadata": {},
   "source": [
    "----"
   ]
  },
  {
   "cell_type": "markdown",
   "metadata": {},
   "source": [
    "## 1. Rod Cutting Problems"
   ]
  },
  {
   "cell_type": "markdown",
   "metadata": {},
   "source": [
    "![](https://github.com/pchen12567/picture_store/blob/master/AI_For_NLP/dynamic_p1.png?raw=true)"
   ]
  },
  {
   "cell_type": "code",
   "execution_count": 1,
   "metadata": {
    "ExecuteTime": {
     "end_time": "2019-04-26T06:38:05.072764Z",
     "start_time": "2019-04-26T06:38:05.066962Z"
    }
   },
   "outputs": [],
   "source": [
    "from collections import defaultdict"
   ]
  },
  {
   "cell_type": "code",
   "execution_count": 2,
   "metadata": {
    "ExecuteTime": {
     "end_time": "2019-04-26T06:38:05.084443Z",
     "start_time": "2019-04-26T06:38:05.076588Z"
    }
   },
   "outputs": [],
   "source": [
    "# Set each length price\n",
    "original_price = [1, 5, 8, 9, 10, 17, 17, 20, 24, 30]\n",
    "price = defaultdict(int)"
   ]
  },
  {
   "cell_type": "code",
   "execution_count": 3,
   "metadata": {
    "ExecuteTime": {
     "end_time": "2019-04-26T06:38:05.098813Z",
     "start_time": "2019-04-26T06:38:05.088218Z"
    }
   },
   "outputs": [],
   "source": [
    "for i, p in enumerate(original_price):\n",
    "    price[i + 1] = p"
   ]
  },
  {
   "cell_type": "code",
   "execution_count": 4,
   "metadata": {
    "ExecuteTime": {
     "end_time": "2019-04-26T06:38:05.109233Z",
     "start_time": "2019-04-26T06:38:05.103325Z"
    }
   },
   "outputs": [
    {
     "name": "stdout",
     "output_type": "stream",
     "text": [
      "dict_items([(1, 1), (2, 5), (3, 8), (4, 9), (5, 10), (6, 17), (7, 17), (8, 20), (9, 24), (10, 30)])\n"
     ]
    }
   ],
   "source": [
    "print(price.items())"
   ]
  },
  {
   "cell_type": "markdown",
   "metadata": {},
   "source": [
    "### Try to build solution by recursive"
   ]
  },
  {
   "cell_type": "markdown",
   "metadata": {},
   "source": [
    "![](https://github.com/pchen12567/picture_store/blob/master/AI_For_NLP/dynamic_p2.jpg?raw=true)"
   ]
  },
  {
   "cell_type": "code",
   "execution_count": 5,
   "metadata": {
    "ExecuteTime": {
     "end_time": "2019-04-26T06:38:05.117656Z",
     "start_time": "2019-04-26T06:38:05.111932Z"
    }
   },
   "outputs": [],
   "source": [
    "# Build solution by recursive\n",
    "def revenue(length):\n",
    "    return max(\n",
    "        [price[length]] + [revenue(i) + revenue(length - i) for i in range(1, length)]\n",
    "    )        "
   ]
  },
  {
   "cell_type": "code",
   "execution_count": 6,
   "metadata": {
    "ExecuteTime": {
     "end_time": "2019-04-26T06:38:08.864083Z",
     "start_time": "2019-04-26T06:38:05.121717Z"
    }
   },
   "outputs": [
    {
     "data": {
      "text/plain": [
       "43"
      ]
     },
     "execution_count": 6,
     "metadata": {},
     "output_type": "execute_result"
    }
   ],
   "source": [
    "revenue(15)"
   ]
  },
  {
   "cell_type": "markdown",
   "metadata": {},
   "source": [
    "#### Detail about function max() and lambda"
   ]
  },
  {
   "cell_type": "code",
   "execution_count": 7,
   "metadata": {
    "ExecuteTime": {
     "end_time": "2019-04-26T06:38:08.871697Z",
     "start_time": "2019-04-26T06:38:08.867011Z"
    }
   },
   "outputs": [],
   "source": [
    "import random"
   ]
  },
  {
   "cell_type": "code",
   "execution_count": 8,
   "metadata": {
    "ExecuteTime": {
     "end_time": "2019-04-26T06:38:08.883976Z",
     "start_time": "2019-04-26T06:38:08.876694Z"
    }
   },
   "outputs": [
    {
     "name": "stdout",
     "output_type": "stream",
     "text": [
      "[(0, 17), (1, 2), (2, 14), (3, 18), (4, 3), (5, -9), (6, -2), (7, 20), (8, 6), (9, 5)]\n"
     ]
    }
   ],
   "source": [
    "random.seed(0)\n",
    "random_numbers = [(i, random.randint(-10,20)) for i in range(10)]\n",
    "print(random_numbers)"
   ]
  },
  {
   "cell_type": "code",
   "execution_count": 9,
   "metadata": {
    "ExecuteTime": {
     "end_time": "2019-04-26T06:38:08.892470Z",
     "start_time": "2019-04-26T06:38:08.886531Z"
    }
   },
   "outputs": [
    {
     "data": {
      "text/plain": [
       "(7, 20)"
      ]
     },
     "execution_count": 9,
     "metadata": {},
     "output_type": "execute_result"
    }
   ],
   "source": [
    "max(random_numbers, key=lambda x: x[1])"
   ]
  },
  {
   "cell_type": "markdown",
   "metadata": {},
   "source": [
    "### Optimize function to get solution"
   ]
  },
  {
   "cell_type": "code",
   "execution_count": 10,
   "metadata": {
    "ExecuteTime": {
     "end_time": "2019-04-26T06:38:08.899212Z",
     "start_time": "2019-04-26T06:38:08.895565Z"
    }
   },
   "outputs": [],
   "source": [
    "# Init solution dictionary\n",
    "solution = {}\n",
    "# for a given length N, we set the corresponding split parts\n",
    "# solution = {\n",
    "#     4: (2, 2)\n",
    "# }"
   ]
  },
  {
   "cell_type": "code",
   "execution_count": 11,
   "metadata": {
    "ExecuteTime": {
     "end_time": "2019-04-26T06:38:08.912541Z",
     "start_time": "2019-04-26T06:38:08.904472Z"
    }
   },
   "outputs": [],
   "source": [
    "def optimize_revenue(length):\n",
    "    max_price, split_point = max(\n",
    "        [(price[length], 0)] +\n",
    "        [(optimize_revenue(i) + optimize_revenue(length - i), i) for i in range(1, length)], key=lambda x: x[0]\n",
    "    )\n",
    "    solution[length] = (split_point, length - split_point)\n",
    "    \n",
    "    return max_price"
   ]
  },
  {
   "cell_type": "code",
   "execution_count": 12,
   "metadata": {
    "ExecuteTime": {
     "end_time": "2019-04-26T06:38:15.530324Z",
     "start_time": "2019-04-26T06:38:08.917007Z"
    }
   },
   "outputs": [
    {
     "data": {
      "text/plain": [
       "43"
      ]
     },
     "execution_count": 12,
     "metadata": {},
     "output_type": "execute_result"
    }
   ],
   "source": [
    "optimize_revenue(15)"
   ]
  },
  {
   "cell_type": "code",
   "execution_count": 13,
   "metadata": {
    "ExecuteTime": {
     "end_time": "2019-04-26T06:38:15.548835Z",
     "start_time": "2019-04-26T06:38:15.534902Z"
    }
   },
   "outputs": [
    {
     "data": {
      "text/plain": [
       "{1: (0, 1),\n",
       " 2: (0, 2),\n",
       " 3: (0, 3),\n",
       " 4: (2, 2),\n",
       " 5: (2, 3),\n",
       " 6: (0, 6),\n",
       " 7: (1, 6),\n",
       " 8: (2, 6),\n",
       " 9: (3, 6),\n",
       " 10: (0, 10),\n",
       " 11: (1, 10),\n",
       " 12: (2, 10),\n",
       " 13: (3, 10),\n",
       " 14: (2, 12),\n",
       " 15: (2, 13)}"
      ]
     },
     "execution_count": 13,
     "metadata": {},
     "output_type": "execute_result"
    }
   ],
   "source": [
    "solution"
   ]
  },
  {
   "cell_type": "markdown",
   "metadata": {},
   "source": [
    "### Build function to parse solution"
   ]
  },
  {
   "cell_type": "markdown",
   "metadata": {},
   "source": [
    "Check the solution step by step"
   ]
  },
  {
   "cell_type": "code",
   "execution_count": 14,
   "metadata": {
    "ExecuteTime": {
     "end_time": "2019-04-26T06:38:15.560268Z",
     "start_time": "2019-04-26T06:38:15.552811Z"
    }
   },
   "outputs": [
    {
     "data": {
      "text/plain": [
       "(2, 13)"
      ]
     },
     "execution_count": 14,
     "metadata": {},
     "output_type": "execute_result"
    }
   ],
   "source": [
    "# Step 1\n",
    "solution[15] # cut to 2 and 16"
   ]
  },
  {
   "cell_type": "code",
   "execution_count": 15,
   "metadata": {
    "ExecuteTime": {
     "end_time": "2019-04-26T06:38:15.574280Z",
     "start_time": "2019-04-26T06:38:15.566398Z"
    }
   },
   "outputs": [
    {
     "data": {
      "text/plain": [
       "(0, 2)"
      ]
     },
     "execution_count": 15,
     "metadata": {},
     "output_type": "execute_result"
    }
   ],
   "source": [
    "# Step 2\n",
    "solution[2] # no cut, keep 2"
   ]
  },
  {
   "cell_type": "code",
   "execution_count": 16,
   "metadata": {
    "ExecuteTime": {
     "end_time": "2019-04-26T06:38:15.587185Z",
     "start_time": "2019-04-26T06:38:15.576709Z"
    }
   },
   "outputs": [
    {
     "data": {
      "text/plain": [
       "(3, 10)"
      ]
     },
     "execution_count": 16,
     "metadata": {},
     "output_type": "execute_result"
    }
   ],
   "source": [
    "# Step 3\n",
    "solution[13] # cut to 3 and 10"
   ]
  },
  {
   "cell_type": "code",
   "execution_count": 17,
   "metadata": {
    "ExecuteTime": {
     "end_time": "2019-04-26T06:38:15.594325Z",
     "start_time": "2019-04-26T06:38:15.589034Z"
    }
   },
   "outputs": [
    {
     "data": {
      "text/plain": [
       "(0, 3)"
      ]
     },
     "execution_count": 17,
     "metadata": {},
     "output_type": "execute_result"
    }
   ],
   "source": [
    "# Step 4\n",
    "solution[3] # not cut, keep 3"
   ]
  },
  {
   "cell_type": "code",
   "execution_count": 18,
   "metadata": {
    "ExecuteTime": {
     "end_time": "2019-04-26T06:38:15.606402Z",
     "start_time": "2019-04-26T06:38:15.597957Z"
    }
   },
   "outputs": [
    {
     "data": {
      "text/plain": [
       "(0, 10)"
      ]
     },
     "execution_count": 18,
     "metadata": {},
     "output_type": "execute_result"
    }
   ],
   "source": [
    "# Step 5\n",
    "solution[10] # not cut, keep 10"
   ]
  },
  {
   "cell_type": "code",
   "execution_count": 19,
   "metadata": {
    "ExecuteTime": {
     "end_time": "2019-04-26T06:38:15.619145Z",
     "start_time": "2019-04-26T06:38:15.610113Z"
    }
   },
   "outputs": [],
   "source": [
    "def parse_solution(length, solution):\n",
    "    left, right = solution[length]\n",
    "    \n",
    "    if left == 0: return [right]\n",
    "    \n",
    "    return [left] + parse_solution(right, solution)"
   ]
  },
  {
   "cell_type": "code",
   "execution_count": 20,
   "metadata": {
    "ExecuteTime": {
     "end_time": "2019-04-26T06:38:15.629252Z",
     "start_time": "2019-04-26T06:38:15.622328Z"
    }
   },
   "outputs": [
    {
     "data": {
      "text/plain": [
       "[2, 3, 10]"
      ]
     },
     "execution_count": 20,
     "metadata": {},
     "output_type": "execute_result"
    }
   ],
   "source": [
    "parse_solution(15, solution)"
   ]
  },
  {
   "cell_type": "markdown",
   "metadata": {},
   "source": [
    "### Decorator"
   ]
  },
  {
   "cell_type": "markdown",
   "metadata": {},
   "source": [
    "#### Detail about decorator"
   ]
  },
  {
   "cell_type": "code",
   "execution_count": 21,
   "metadata": {
    "ExecuteTime": {
     "end_time": "2019-04-26T06:38:15.638515Z",
     "start_time": "2019-04-26T06:38:15.633386Z"
    }
   },
   "outputs": [],
   "source": [
    "import time"
   ]
  },
  {
   "cell_type": "code",
   "execution_count": 22,
   "metadata": {
    "ExecuteTime": {
     "end_time": "2019-04-26T06:38:15.652205Z",
     "start_time": "2019-04-26T06:38:15.643182Z"
    }
   },
   "outputs": [],
   "source": [
    "def call_time(func, arg):\n",
    "    start = time.time()\n",
    "    func(arg)\n",
    "    print('New feature, {} Cost time: {}'.format(func.__name__, time.time() - start))"
   ]
  },
  {
   "cell_type": "code",
   "execution_count": 23,
   "metadata": {
    "ExecuteTime": {
     "end_time": "2019-04-26T06:38:15.663549Z",
     "start_time": "2019-04-26T06:38:15.657268Z"
    }
   },
   "outputs": [],
   "source": [
    "def func_normal(n):\n",
    "    for i in range(n):\n",
    "        print(i)"
   ]
  },
  {
   "cell_type": "code",
   "execution_count": 24,
   "metadata": {
    "ExecuteTime": {
     "end_time": "2019-04-26T06:38:15.676776Z",
     "start_time": "2019-04-26T06:38:15.669989Z"
    }
   },
   "outputs": [
    {
     "name": "stdout",
     "output_type": "stream",
     "text": [
      "0\n",
      "1\n",
      "2\n",
      "3\n",
      "4\n"
     ]
    }
   ],
   "source": [
    "func_normal(5)"
   ]
  },
  {
   "cell_type": "code",
   "execution_count": 25,
   "metadata": {
    "ExecuteTime": {
     "end_time": "2019-04-26T06:38:15.693684Z",
     "start_time": "2019-04-26T06:38:15.679083Z"
    }
   },
   "outputs": [
    {
     "name": "stdout",
     "output_type": "stream",
     "text": [
      "0\n",
      "1\n",
      "2\n",
      "3\n",
      "4\n",
      "New feature, func_normal Cost time: 0.005148887634277344\n"
     ]
    }
   ],
   "source": [
    "call_time(func_normal, 5)"
   ]
  },
  {
   "cell_type": "code",
   "execution_count": 26,
   "metadata": {
    "ExecuteTime": {
     "end_time": "2019-04-26T06:38:15.709514Z",
     "start_time": "2019-04-26T06:38:15.701370Z"
    }
   },
   "outputs": [],
   "source": [
    "def func_slow(n):\n",
    "    for i in range(n):\n",
    "        time.sleep(0.5)\n",
    "        print(i)"
   ]
  },
  {
   "cell_type": "code",
   "execution_count": 27,
   "metadata": {
    "ExecuteTime": {
     "end_time": "2019-04-26T06:38:18.244192Z",
     "start_time": "2019-04-26T06:38:15.720477Z"
    }
   },
   "outputs": [
    {
     "name": "stdout",
     "output_type": "stream",
     "text": [
      "0\n",
      "1\n",
      "2\n",
      "3\n",
      "4\n"
     ]
    }
   ],
   "source": [
    "func_slow(5)"
   ]
  },
  {
   "cell_type": "code",
   "execution_count": 28,
   "metadata": {
    "ExecuteTime": {
     "end_time": "2019-04-26T06:38:20.779371Z",
     "start_time": "2019-04-26T06:38:18.248662Z"
    }
   },
   "outputs": [
    {
     "name": "stdout",
     "output_type": "stream",
     "text": [
      "0\n",
      "1\n",
      "2\n",
      "3\n",
      "4\n",
      "New feature, func_slow Cost time: 2.524441719055176\n"
     ]
    }
   ],
   "source": [
    "call_time(func_slow, 5)"
   ]
  },
  {
   "cell_type": "code",
   "execution_count": 29,
   "metadata": {
    "ExecuteTime": {
     "end_time": "2019-04-26T06:38:20.790502Z",
     "start_time": "2019-04-26T06:38:20.783356Z"
    }
   },
   "outputs": [],
   "source": [
    "def get_call_time(func):\n",
    "    def _wrap(*args, **kwargs):\n",
    "        start = time.time()\n",
    "        result = func(*args, **kwargs)\n",
    "        print('New feature, {} Cost time: {}'.format(func.__name__, time.time() - start))\n",
    "        return result\n",
    "    return _wrap"
   ]
  },
  {
   "cell_type": "code",
   "execution_count": 30,
   "metadata": {
    "ExecuteTime": {
     "end_time": "2019-04-26T06:38:20.799603Z",
     "start_time": "2019-04-26T06:38:20.794511Z"
    }
   },
   "outputs": [
    {
     "name": "stdout",
     "output_type": "stream",
     "text": [
      "<function get_call_time.<locals>._wrap at 0x10f885c80>\n"
     ]
    }
   ],
   "source": [
    "func_wrap = get_call_time(func_normal) # => @ decorator\n",
    "print(func_wrap)"
   ]
  },
  {
   "cell_type": "code",
   "execution_count": 31,
   "metadata": {
    "ExecuteTime": {
     "end_time": "2019-04-26T06:38:20.808090Z",
     "start_time": "2019-04-26T06:38:20.803485Z"
    }
   },
   "outputs": [
    {
     "name": "stdout",
     "output_type": "stream",
     "text": [
      "0\n",
      "1\n",
      "2\n",
      "3\n",
      "4\n",
      "New feature, func_normal Cost time: 0.00028395652770996094\n"
     ]
    }
   ],
   "source": [
    "func_wrap(5)"
   ]
  },
  {
   "cell_type": "markdown",
   "metadata": {},
   "source": [
    "**With decorator**"
   ]
  },
  {
   "cell_type": "code",
   "execution_count": 32,
   "metadata": {
    "ExecuteTime": {
     "end_time": "2019-04-26T06:38:20.817165Z",
     "start_time": "2019-04-26T06:38:20.811402Z"
    }
   },
   "outputs": [
    {
     "name": "stdout",
     "output_type": "stream",
     "text": [
      "0\n",
      "1\n",
      "2\n",
      "3\n",
      "4\n",
      "New feature, func_1 Cost time: 0.00036978721618652344\n"
     ]
    }
   ],
   "source": [
    "@get_call_time\n",
    "def func_1(n):\n",
    "    for i in range(n):\n",
    "        print(i)\n",
    "\n",
    "func_1(5)"
   ]
  },
  {
   "cell_type": "markdown",
   "metadata": {},
   "source": [
    "Equals:<br>\n",
    "`func_1 = get_call_time(func_1) => func_1 = _wrap(*args, **kwargs)`<br>\n",
    "`func_1(5) => _wrap(5)`"
   ]
  },
  {
   "cell_type": "markdown",
   "metadata": {},
   "source": [
    "**Without decorator**"
   ]
  },
  {
   "cell_type": "code",
   "execution_count": 33,
   "metadata": {
    "ExecuteTime": {
     "end_time": "2019-04-26T06:38:20.843611Z",
     "start_time": "2019-04-26T06:38:20.830425Z"
    }
   },
   "outputs": [
    {
     "name": "stdout",
     "output_type": "stream",
     "text": [
      "0\n",
      "1\n",
      "2\n",
      "3\n",
      "4\n"
     ]
    }
   ],
   "source": [
    "# @get_call_time\n",
    "def func_1(n):\n",
    "    for i in range(n):\n",
    "        print(i)\n",
    "\n",
    "func_1(5)"
   ]
  },
  {
   "cell_type": "markdown",
   "metadata": {},
   "source": [
    "#### Implement decorator"
   ]
  },
  {
   "cell_type": "code",
   "execution_count": 34,
   "metadata": {
    "ExecuteTime": {
     "end_time": "2019-04-26T06:38:20.858073Z",
     "start_time": "2019-04-26T06:38:20.849821Z"
    }
   },
   "outputs": [],
   "source": [
    "from functools import wraps"
   ]
  },
  {
   "cell_type": "code",
   "execution_count": 35,
   "metadata": {
    "ExecuteTime": {
     "end_time": "2019-04-26T06:38:20.870516Z",
     "start_time": "2019-04-26T06:38:20.861989Z"
    }
   },
   "outputs": [],
   "source": [
    "def memo(func):\n",
    "    cache = {}\n",
    "    @wraps(func)\n",
    "    def _wrap(*args, **kwargs):\n",
    "        str_param = str(args) + str(kwargs)\n",
    "        \n",
    "        if str_param not in cache:\n",
    "            result = func(*args, **kwargs)\n",
    "            cache[str_param] = result\n",
    "            \n",
    "        return cache[str_param]\n",
    "    \n",
    "    return _wrap"
   ]
  },
  {
   "cell_type": "code",
   "execution_count": 36,
   "metadata": {
    "ExecuteTime": {
     "end_time": "2019-04-26T06:38:20.883470Z",
     "start_time": "2019-04-26T06:38:20.873091Z"
    }
   },
   "outputs": [],
   "source": [
    "@memo\n",
    "def optimize_revenue(length):\n",
    "    max_price, split_point = max(\n",
    "        [(price[length], 0)] +\n",
    "        [(optimize_revenue(i) + optimize_revenue(length - i), i) for i in range(1, length)], key=lambda x: x[0]\n",
    "    )\n",
    "    solution[length] = (split_point, length - split_point)\n",
    "    \n",
    "    return max_price"
   ]
  },
  {
   "cell_type": "code",
   "execution_count": 37,
   "metadata": {
    "ExecuteTime": {
     "end_time": "2019-04-26T06:38:20.904717Z",
     "start_time": "2019-04-26T06:38:20.889127Z"
    }
   },
   "outputs": [
    {
     "data": {
      "text/plain": [
       "218"
      ]
     },
     "execution_count": 37,
     "metadata": {},
     "output_type": "execute_result"
    }
   ],
   "source": [
    "optimize_revenue(73)"
   ]
  },
  {
   "cell_type": "code",
   "execution_count": 38,
   "metadata": {
    "ExecuteTime": {
     "end_time": "2019-04-26T06:38:20.914113Z",
     "start_time": "2019-04-26T06:38:20.907636Z"
    }
   },
   "outputs": [
    {
     "data": {
      "text/plain": [
       "[3, 10, 10, 10, 10, 10, 10, 10]"
      ]
     },
     "execution_count": 38,
     "metadata": {},
     "output_type": "execute_result"
    }
   ],
   "source": [
    "parse_solution(73, solution)"
   ]
  },
  {
   "cell_type": "markdown",
   "metadata": {},
   "source": [
    "### Dynamic Programming Summary"
   ]
  },
  {
   "cell_type": "markdown",
   "metadata": {},
   "source": [
    "不断查表的意思\n",
    "\n",
    "- 分析子问题的重复性\n",
    "- 子问题进行存储\n",
    "- Solution 要进行解析"
   ]
  },
  {
   "cell_type": "markdown",
   "metadata": {},
   "source": [
    "----"
   ]
  },
  {
   "cell_type": "markdown",
   "metadata": {},
   "source": [
    "## 2. Edit Distance"
   ]
  },
  {
   "cell_type": "markdown",
   "metadata": {},
   "source": [
    "编辑距离的定义是：从字符串A到字符串B，中间需要的最少操作权重。这里的操作权重一般是：\n",
    "\n",
    "- 删除一个字符(deletion)： 删除A末尾一个字符\n",
    "- 插入一个字符(insertion)： 将B末尾一个字符插入到A末尾\n",
    "- 替换一个字符(substitution)： 将A末尾的一个字符替换成B末尾的一个字符\n",
    "\n",
    "- 他们的权重为w"
   ]
  },
  {
   "cell_type": "markdown",
   "metadata": {},
   "source": [
    "### Min Edit Distance Definition (Levenshtein)"
   ]
  },
  {
   "cell_type": "markdown",
   "metadata": {},
   "source": [
    "Given two words word1 and word2, find the minimum number of steps required to convert word1 to word2. \n",
    "\n",
    "Having the following 3 operations permitted on a word:\n",
    "\n",
    "1. Insertion => cost = 1\n",
    "2. Deletion => cost = 1\n",
    "3. Substitution => cost = 2"
   ]
  },
  {
   "cell_type": "markdown",
   "metadata": {},
   "source": [
    "### Min Edit Distance Algorithm"
   ]
  },
  {
   "cell_type": "markdown",
   "metadata": {},
   "source": [
    "- For two strings\n",
    "    - X of length n\n",
    "    - Y of length m \n",
    "<br><br>\n",
    "- We define D(i, j)\n",
    "    - The edit distance between X[1…i] and Y[1..j]\n",
    "<br><br>\n",
    "- The edit distance between X and Y is thus D(n, m)"
   ]
  },
  {
   "cell_type": "markdown",
   "metadata": {},
   "source": [
    "![](https://github.com/pchen12567/picture_store/blob/master/AI_For_NLP/dynamic_p3.jpg?raw=true)"
   ]
  },
  {
   "cell_type": "code",
   "execution_count": 39,
   "metadata": {
    "ExecuteTime": {
     "end_time": "2019-04-26T06:38:20.923737Z",
     "start_time": "2019-04-26T06:38:20.916731Z"
    }
   },
   "outputs": [],
   "source": [
    "@memo\n",
    "def edit_distance(string1, string2):\n",
    "    \n",
    "    if len(string1) == 0: return len(string2)\n",
    "    if len(string2) == 0: return len(string1)\n",
    "    \n",
    "    return min(\n",
    "        [edit_distance(string1[:-1], string2) + 1, # string 1 delete tail\n",
    "         edit_distance(string1, string2[:-1]) + 1, # string 1 insert tail of string 2\n",
    "         edit_distance(string1[:-1], string2[:-1]) + (0 if string1[-1] == string2[-1] else 2)]\n",
    "        # string 1 tail substitution to string 2 tail\n",
    "    )"
   ]
  },
  {
   "cell_type": "markdown",
   "metadata": {},
   "source": [
    "**Use python embedding decorator lru_cache**"
   ]
  },
  {
   "cell_type": "code",
   "execution_count": 40,
   "metadata": {
    "ExecuteTime": {
     "end_time": "2019-04-26T06:38:20.930843Z",
     "start_time": "2019-04-26T06:38:20.926650Z"
    }
   },
   "outputs": [],
   "source": [
    "from functools import lru_cache"
   ]
  },
  {
   "cell_type": "code",
   "execution_count": 41,
   "metadata": {
    "ExecuteTime": {
     "end_time": "2019-04-26T06:38:20.941633Z",
     "start_time": "2019-04-26T06:38:20.934229Z"
    }
   },
   "outputs": [],
   "source": [
    "@lru_cache(maxsize = 2**10)\n",
    "def edit_distance(string1, string2):\n",
    "    \n",
    "    if len(string1) == 0: return len(string2)\n",
    "    if len(string2) == 0: return len(string1)\n",
    "    \n",
    "    return min(\n",
    "        [edit_distance(string1[:-1], string2) + 1, # string 1 delete tail\n",
    "         edit_distance(string1, string2[:-1]) + 1, # string 1 add tail of string 2\n",
    "         edit_distance(string1[:-1], string2[:-1]) + (0 if string1[-1] == string2[-1] else 2)]\n",
    "        # string 1 tail substitution to string 2 tail\n",
    "    )"
   ]
  },
  {
   "cell_type": "code",
   "execution_count": 42,
   "metadata": {
    "ExecuteTime": {
     "end_time": "2019-04-26T06:38:20.950966Z",
     "start_time": "2019-04-26T06:38:20.945008Z"
    }
   },
   "outputs": [
    {
     "data": {
      "text/plain": [
       "2"
      ]
     },
     "execution_count": 42,
     "metadata": {},
     "output_type": "execute_result"
    }
   ],
   "source": [
    "edit_distance('biejing', 'beijing') # Del Ins"
   ]
  },
  {
   "cell_type": "code",
   "execution_count": 43,
   "metadata": {
    "ExecuteTime": {
     "end_time": "2019-04-26T06:38:20.960022Z",
     "start_time": "2019-04-26T06:38:20.953933Z"
    }
   },
   "outputs": [
    {
     "data": {
      "text/plain": [
       "5"
      ]
     },
     "execution_count": 43,
     "metadata": {},
     "output_type": "execute_result"
    }
   ],
   "source": [
    "edit_distance('biejing', 'beijie') # Del Ins Sub Del"
   ]
  },
  {
   "cell_type": "code",
   "execution_count": 44,
   "metadata": {
    "ExecuteTime": {
     "end_time": "2019-04-26T06:38:20.968585Z",
     "start_time": "2019-04-26T06:38:20.962306Z"
    }
   },
   "outputs": [
    {
     "data": {
      "text/plain": [
       "3"
      ]
     },
     "execution_count": 44,
     "metadata": {},
     "output_type": "execute_result"
    }
   ],
   "source": [
    "edit_distance('biejing', 'beijin') # Del Ins Del"
   ]
  },
  {
   "cell_type": "markdown",
   "metadata": {},
   "source": [
    "### Solution Parse"
   ]
  },
  {
   "cell_type": "markdown",
   "metadata": {},
   "source": [
    "**Change the 'Substitution' weight from 2 to 1**"
   ]
  },
  {
   "cell_type": "code",
   "execution_count": 45,
   "metadata": {
    "ExecuteTime": {
     "end_time": "2019-04-26T06:38:20.975321Z",
     "start_time": "2019-04-26T06:38:20.971599Z"
    }
   },
   "outputs": [],
   "source": [
    "backTrace = {}"
   ]
  },
  {
   "cell_type": "code",
   "execution_count": 46,
   "metadata": {
    "ExecuteTime": {
     "end_time": "2019-04-26T06:38:20.987425Z",
     "start_time": "2019-04-26T06:38:20.978496Z"
    }
   },
   "outputs": [],
   "source": [
    "@lru_cache(maxsize=2**10)\n",
    "def optimize_edit_distance(string1, string2):\n",
    "    \n",
    "    if len(string1) == 0: return len(string2)\n",
    "    if len(string2) == 0: return len(string1)\n",
    "    \n",
    "    tail_s1 = string1[-1]\n",
    "    tail_s2 = string2[-1]\n",
    "    \n",
    "    candidates = [(optimize_edit_distance(string1[:-1], string2) + 1, 'DEL {}'.format(tail_s1)),\n",
    "                  (optimize_edit_distance(string1, string2[:-1]) + 1, 'INS {}'.format(tail_s2))]\n",
    "    \n",
    "    if tail_s1 == tail_s2:\n",
    "        sub = (optimize_edit_distance(string1[:-1], string2[:-1]) + 0, '')\n",
    "    else:\n",
    "        sub = (optimize_edit_distance(string1[:-1], string2[:-1]) + 1, 'SUB {} => {}'.format(tail_s1, tail_s2))\n",
    "    \n",
    "    candidates.append(sub)\n",
    "    \n",
    "    edit_distance, action = min(candidates, key=lambda x: x[0])\n",
    "    \n",
    "    backTrace[(string1, string2)] = action\n",
    "    \n",
    "    return edit_distance"
   ]
  },
  {
   "cell_type": "code",
   "execution_count": 47,
   "metadata": {
    "ExecuteTime": {
     "end_time": "2019-04-26T06:38:20.997777Z",
     "start_time": "2019-04-26T06:38:20.990862Z"
    }
   },
   "outputs": [
    {
     "data": {
      "text/plain": [
       "2"
      ]
     },
     "execution_count": 47,
     "metadata": {},
     "output_type": "execute_result"
    }
   ],
   "source": [
    "optimize_edit_distance('ABCDE', 'ABCCEF')"
   ]
  },
  {
   "cell_type": "markdown",
   "metadata": {},
   "source": [
    "**View the solution step by step**"
   ]
  },
  {
   "cell_type": "code",
   "execution_count": 48,
   "metadata": {
    "ExecuteTime": {
     "end_time": "2019-04-26T06:38:21.007472Z",
     "start_time": "2019-04-26T06:38:21.000635Z"
    }
   },
   "outputs": [
    {
     "data": {
      "text/plain": [
       "{('A', 'A'): '',\n",
       " ('A', 'AB'): 'INS B',\n",
       " ('A', 'ABC'): 'INS C',\n",
       " ('A', 'ABCC'): 'INS C',\n",
       " ('A', 'ABCCE'): 'INS E',\n",
       " ('A', 'ABCCEF'): 'INS F',\n",
       " ('AB', 'A'): 'DEL B',\n",
       " ('AB', 'AB'): '',\n",
       " ('AB', 'ABC'): 'INS C',\n",
       " ('AB', 'ABCC'): 'INS C',\n",
       " ('AB', 'ABCCE'): 'INS E',\n",
       " ('AB', 'ABCCEF'): 'INS F',\n",
       " ('ABC', 'A'): 'DEL C',\n",
       " ('ABC', 'AB'): 'DEL C',\n",
       " ('ABC', 'ABC'): '',\n",
       " ('ABC', 'ABCC'): 'INS C',\n",
       " ('ABC', 'ABCCE'): 'INS E',\n",
       " ('ABC', 'ABCCEF'): 'INS F',\n",
       " ('ABCD', 'A'): 'DEL D',\n",
       " ('ABCD', 'AB'): 'DEL D',\n",
       " ('ABCD', 'ABC'): 'DEL D',\n",
       " ('ABCD', 'ABCC'): 'SUB D => C',\n",
       " ('ABCD', 'ABCCE'): 'INS E',\n",
       " ('ABCD', 'ABCCEF'): 'INS F',\n",
       " ('ABCDE', 'A'): 'DEL E',\n",
       " ('ABCDE', 'AB'): 'DEL E',\n",
       " ('ABCDE', 'ABC'): 'DEL E',\n",
       " ('ABCDE', 'ABCC'): 'DEL E',\n",
       " ('ABCDE', 'ABCCE'): '',\n",
       " ('ABCDE', 'ABCCEF'): 'INS F'}"
      ]
     },
     "execution_count": 48,
     "metadata": {},
     "output_type": "execute_result"
    }
   ],
   "source": [
    "backTrace"
   ]
  },
  {
   "cell_type": "code",
   "execution_count": 49,
   "metadata": {
    "ExecuteTime": {
     "end_time": "2019-04-26T06:38:21.016136Z",
     "start_time": "2019-04-26T06:38:21.009960Z"
    }
   },
   "outputs": [
    {
     "data": {
      "text/plain": [
       "'INS F'"
      ]
     },
     "execution_count": 49,
     "metadata": {},
     "output_type": "execute_result"
    }
   ],
   "source": [
    "# Step 1\n",
    "backTrace[('ABCDE', 'ABCCEF')]"
   ]
  },
  {
   "cell_type": "code",
   "execution_count": 50,
   "metadata": {
    "ExecuteTime": {
     "end_time": "2019-04-26T06:38:21.024960Z",
     "start_time": "2019-04-26T06:38:21.018769Z"
    }
   },
   "outputs": [
    {
     "data": {
      "text/plain": [
       "''"
      ]
     },
     "execution_count": 50,
     "metadata": {},
     "output_type": "execute_result"
    }
   ],
   "source": [
    "# Step 2\n",
    "backTrace[('ABCDE', 'ABCCE')]"
   ]
  },
  {
   "cell_type": "code",
   "execution_count": 51,
   "metadata": {
    "ExecuteTime": {
     "end_time": "2019-04-26T06:38:21.036477Z",
     "start_time": "2019-04-26T06:38:21.028069Z"
    }
   },
   "outputs": [
    {
     "data": {
      "text/plain": [
       "'SUB D => C'"
      ]
     },
     "execution_count": 51,
     "metadata": {},
     "output_type": "execute_result"
    }
   ],
   "source": [
    "# Step 3\n",
    "backTrace[('ABCD', 'ABCC')]"
   ]
  },
  {
   "cell_type": "code",
   "execution_count": 52,
   "metadata": {
    "ExecuteTime": {
     "end_time": "2019-04-26T06:38:21.049355Z",
     "start_time": "2019-04-26T06:38:21.041499Z"
    }
   },
   "outputs": [
    {
     "data": {
      "text/plain": [
       "''"
      ]
     },
     "execution_count": 52,
     "metadata": {},
     "output_type": "execute_result"
    }
   ],
   "source": [
    "# Step 4\n",
    "backTrace[('ABC', 'ABC')]"
   ]
  },
  {
   "cell_type": "code",
   "execution_count": 53,
   "metadata": {
    "ExecuteTime": {
     "end_time": "2019-04-26T06:38:21.058768Z",
     "start_time": "2019-04-26T06:38:21.052506Z"
    }
   },
   "outputs": [
    {
     "data": {
      "text/plain": [
       "''"
      ]
     },
     "execution_count": 53,
     "metadata": {},
     "output_type": "execute_result"
    }
   ],
   "source": [
    "# Step 5\n",
    "backTrace[('AB', 'AB')]"
   ]
  },
  {
   "cell_type": "code",
   "execution_count": 54,
   "metadata": {
    "ExecuteTime": {
     "end_time": "2019-04-26T06:38:21.069078Z",
     "start_time": "2019-04-26T06:38:21.062462Z"
    }
   },
   "outputs": [
    {
     "data": {
      "text/plain": [
       "''"
      ]
     },
     "execution_count": 54,
     "metadata": {},
     "output_type": "execute_result"
    }
   ],
   "source": [
    "# Step 6\n",
    "backTrace[('A', 'A')]"
   ]
  },
  {
   "cell_type": "markdown",
   "metadata": {},
   "source": [
    "**Build function to parse solution**"
   ]
  },
  {
   "cell_type": "code",
   "execution_count": 55,
   "metadata": {
    "ExecuteTime": {
     "end_time": "2019-04-26T06:38:21.079853Z",
     "start_time": "2019-04-26T06:38:21.072135Z"
    }
   },
   "outputs": [],
   "source": [
    "def parse_back_trace(string1, string2, solution):\n",
    "    \n",
    "    if string1 == '': return []\n",
    "    if string2 == '': return []\n",
    "    \n",
    "    action = solution[(string1, string2)]\n",
    "\n",
    "    if action.startswith('INS'):\n",
    "        return [action] + parse_back_trace(string1, string2[:-1], solution)\n",
    "\n",
    "    if action.startswith('DEL'):\n",
    "        return [action] + parse_back_trace(string1[:-1], string2, solution)\n",
    "\n",
    "    else:\n",
    "        return [action] + parse_back_trace(string1[:-1], string2[:-1], solution)"
   ]
  },
  {
   "cell_type": "code",
   "execution_count": 56,
   "metadata": {
    "ExecuteTime": {
     "end_time": "2019-04-26T06:38:21.091192Z",
     "start_time": "2019-04-26T06:38:21.085047Z"
    }
   },
   "outputs": [
    {
     "data": {
      "text/plain": [
       "['INS F', '', 'SUB D => C', '', '', '']"
      ]
     },
     "execution_count": 56,
     "metadata": {},
     "output_type": "execute_result"
    }
   ],
   "source": [
    "parse_back_trace('ABCDE', 'ABCCEF', backTrace)"
   ]
  }
 ],
 "metadata": {
  "kernelspec": {
   "display_name": "Python 3",
   "language": "python",
   "name": "python3"
  },
  "language_info": {
   "codemirror_mode": {
    "name": "ipython",
    "version": 3
   },
   "file_extension": ".py",
   "mimetype": "text/x-python",
   "name": "python",
   "nbconvert_exporter": "python",
   "pygments_lexer": "ipython3",
   "version": "3.7.2"
  },
  "toc": {
   "base_numbering": 1,
   "nav_menu": {},
   "number_sections": false,
   "sideBar": true,
   "skip_h1_title": true,
   "title_cell": "Table of Contents",
   "title_sidebar": "Contents",
   "toc_cell": false,
   "toc_position": {},
   "toc_section_display": true,
   "toc_window_display": true
  }
 },
 "nbformat": 4,
 "nbformat_minor": 2
}
