{
 "cells": [
  {
   "cell_type": "markdown",
   "metadata": {},
   "source": [
    "# Assignment_04 Dynamic Programming"
   ]
  },
  {
   "cell_type": "markdown",
   "metadata": {},
   "source": [
    "In this week, we need complete following tasks:\n",
    "+ Re-review the course online programming; \n",
    "+ Choose 1 - 2 books which you interested and keep reading; \n",
    "+ Answer the review questions\n",
    "+ Prepare the basic requirement of our 1st project. "
   ]
  },
  {
   "cell_type": "markdown",
   "metadata": {},
   "source": [
    "----"
   ]
  },
  {
   "cell_type": "markdown",
   "metadata": {},
   "source": [
    "## Part 1-1: Review the online programming. "
   ]
  },
  {
   "cell_type": "markdown",
   "metadata": {},
   "source": [
    "**Ans:** Please refer to the file [LectureCode_04.ipnb](https://github.com/pchen12567/AI_For_NLP/blob/master/Week_04_DynamicProgramming/LectureCode_04.ipynb)"
   ]
  },
  {
   "cell_type": "markdown",
   "metadata": {},
   "source": [
    "## Part 1-2: Finish the Solution Parse Part of Edit-Distance"
   ]
  },
  {
   "cell_type": "markdown",
   "metadata": {},
   "source": [
    "**Ans:** Please refer to the file [LectureCode_04.ipnb](https://github.com/pchen12567/AI_For_NLP/blob/master/Week_04_DynamicProgramming/LectureCode_04.ipynb)"
   ]
  },
  {
   "cell_type": "markdown",
   "metadata": {},
   "source": [
    "----"
   ]
  },
  {
   "cell_type": "markdown",
   "metadata": {},
   "source": [
    "## Part 2 Choose 1 - 2 books to keep reading:"
   ]
  },
  {
   "cell_type": "markdown",
   "metadata": {},
   "source": [
    "- SICP, Structure and Interpretation of Computer Programming.\n",
    "- Introduction to Algorithms\n",
    "- Artificial Intelligence A Modern Approach (3rd Edition)\n",
    "- Code Complete 2\n",
    "- Programming Pearls\n",
    "- Deep Learning\n",
    "- 黑快与画家\n",
    "- 数学之美\n",
    "- Fluent Python\n",
    "- Hands on Tensorflow\n",
    "- Conference: NIPS ICML ICLR ACL AAAI\n",
    "\n",
    "> most books you may find in our github: https://github.com/Computing-Intelligence/References"
   ]
  },
  {
   "cell_type": "markdown",
   "metadata": {},
   "source": [
    "----"
   ]
  },
  {
   "cell_type": "markdown",
   "metadata": {},
   "source": [
    "## Part 3: Answer following questions: "
   ]
  },
  {
   "cell_type": "markdown",
   "metadata": {},
   "source": [
    "1. Why do we need dynamic programming? What's the difference of dynamic programming and previous talked `search` problme? "
   ]
  },
  {
   "cell_type": "markdown",
   "metadata": {},
   "source": [
    "**Ans:** Dynamic programming is a powerful technical that allows one to solve many different types of problems in time $O(n^2)$ or $O(n^3)$ for which a naive approach would take exponential time. It is a general approach to solving problems, much like \"divide-and-conquer\" is a general method, except that unlike divide-and-conquer, the subproblems will typicall overlap."
   ]
  },
  {
   "cell_type": "markdown",
   "metadata": {},
   "source": [
    "2. Why do we still need dynamic programming? Why not we train a machine learning to fit a function which could get the `right` answer based on inputs?"
   ]
  },
  {
   "cell_type": "markdown",
   "metadata": {},
   "source": [
    "**Ans:** \n",
    "- It is well suited for multi-stage or multi-point or sequential decision process.\n",
    "- It is suitable for linear or non-linear problems, discrete or continuous variables, and deterministic problems."
   ]
  },
  {
   "cell_type": "markdown",
   "metadata": {},
   "source": [
    "3. Can you catch up at least 3 problems which could solved by Dynamic Programming? "
   ]
  },
  {
   "cell_type": "markdown",
   "metadata": {},
   "source": [
    "**Ans:**\n",
    "- Longest Common Subsequence\n",
    "- Knapsack Problem\n",
    "- Word Break Problem"
   ]
  },
  {
   "cell_type": "markdown",
   "metadata": {},
   "source": [
    "4. Can you catch up at least 3 problems wich could sloved by Edit Distance? "
   ]
  },
  {
   "cell_type": "markdown",
   "metadata": {},
   "source": [
    "**Ans:**\n",
    "- Spell Inspection\n",
    "- DNA Sequence Similarity Detection \n",
    "- Article Checking"
   ]
  },
  {
   "cell_type": "markdown",
   "metadata": {},
   "source": [
    "5. Please summarize the three main features of Dynamic Programming, and make a concise explain for each feature. "
   ]
  },
  {
   "cell_type": "markdown",
   "metadata": {},
   "source": [
    "**Ans:**\n",
    "- Analyze the repeat partial problem.\n",
    "- Save the partial problem \n",
    "- Parse the solution"
   ]
  },
  {
   "cell_type": "markdown",
   "metadata": {},
   "source": [
    "6. What's the disadvantages of Dynamic Programming? (You may need search by yourself in Internet)"
   ]
  },
  {
   "cell_type": "markdown",
   "metadata": {},
   "source": [
    "**Ans:** The biggest limitation on dynamic programming is the number of partial solutions we must keep track of, which costs too much memory."
   ]
  },
  {
   "cell_type": "markdown",
   "metadata": {
    "ExecuteTime": {
     "end_time": "2019-04-24T19:48:52.963200Z",
     "start_time": "2019-04-24T19:48:52.948751Z"
    }
   },
   "source": [
    "----"
   ]
  },
  {
   "cell_type": "markdown",
   "metadata": {},
   "source": [
    "## Part 4: Preparation of Project-01"
   ]
  },
  {
   "cell_type": "markdown",
   "metadata": {},
   "source": [
    "1. Using python Flask or Bottle to finish your first simple web app:\n",
    "> https://bottlepy.org/\n",
    "\n",
    "2. Learn what's the SQL, and try some simple SQL operations:\n",
    "> https://www.w3schools.com/sql/sql_intro.asp\n",
    "\n",
    "3. Learn what's the HTML ( *ONLY* need to know the basic things)\n",
    "> https://getbootstrap.com/; https://www.w3schools.com/html/"
   ]
  },
  {
   "cell_type": "markdown",
   "metadata": {},
   "source": [
    "----"
   ]
  },
  {
   "cell_type": "markdown",
   "metadata": {},
   "source": [
    "## (Optinal) Finish the k-person-salesman problem:"
   ]
  },
  {
   "cell_type": "code",
   "execution_count": 1,
   "metadata": {
    "ExecuteTime": {
     "end_time": "2019-04-27T23:51:04.250941Z",
     "start_time": "2019-04-27T23:51:03.095949Z"
    }
   },
   "outputs": [],
   "source": [
    "import random\n",
    "import matplotlib.pylab as plt\n",
    "\n",
    "%matplotlib inline"
   ]
  },
  {
   "cell_type": "code",
   "execution_count": 2,
   "metadata": {
    "ExecuteTime": {
     "end_time": "2019-04-27T23:51:04.259639Z",
     "start_time": "2019-04-27T23:51:04.253624Z"
    }
   },
   "outputs": [],
   "source": [
    "# Generate 15 random points\n",
    "random.seed(0)\n",
    "latitudes = [random.randint(-100, 100) for _ in range(15)]\n",
    "longitude = [random.randint(-100, 100) for _ in range(15)]"
   ]
  },
  {
   "cell_type": "code",
   "execution_count": 3,
   "metadata": {
    "ExecuteTime": {
     "end_time": "2019-04-27T23:51:04.269048Z",
     "start_time": "2019-04-27T23:51:04.262581Z"
    }
   },
   "outputs": [
    {
     "name": "stdout",
     "output_type": "stream",
     "text": [
      "[-2, 94, 7, -90, -34, 30, 24, 3, 100, -23, 22, -9, 49, -45, 29]\n",
      "[-65, -28, -65, 93, -76, 58, -36, 36, 80, 54, -63, -21, -75, 86, -82]\n"
     ]
    }
   ],
   "source": [
    "# View points\n",
    "print(latitudes)\n",
    "print(longitude)"
   ]
  },
  {
   "cell_type": "code",
   "execution_count": 4,
   "metadata": {
    "ExecuteTime": {
     "end_time": "2019-04-27T23:51:04.463124Z",
     "start_time": "2019-04-27T23:51:04.273010Z"
    }
   },
   "outputs": [
    {
     "data": {
      "image/png": "[encoded data removed]",
      "text/plain": [
       "<Figure size 432x288 with 1 Axes>"
      ]
     },
     "metadata": {
      "needs_background": "light"
     },
     "output_type": "display_data"
    }
   ],
   "source": [
    "plt.scatter(latitudes, longitude)\n",
    "plt.show()"
   ]
  },
  {
   "cell_type": "markdown",
   "metadata": {},
   "source": [
    "给定一个初始点 $P$, 已知 $k$个车辆，如何从该点出发，经这 k 个车辆经过所有的点全部一次，而且所走过的路程最短?<br>\n",
    "例如："
   ]
  },
  {
   "cell_type": "code",
   "execution_count": 5,
   "metadata": {
    "ExecuteTime": {
     "end_time": "2019-04-27T23:51:04.469755Z",
     "start_time": "2019-04-27T23:51:04.466570Z"
    }
   },
   "outputs": [],
   "source": [
    "# Init start point\n",
    "chosen_p = (5, 10)"
   ]
  },
  {
   "cell_type": "code",
   "execution_count": 6,
   "metadata": {
    "ExecuteTime": {
     "end_time": "2019-04-27T23:51:04.619239Z",
     "start_time": "2019-04-27T23:51:04.472201Z"
    }
   },
   "outputs": [
    {
     "data": {
      "image/png": "[encoded data removed]",
      "text/plain": [
       "<Figure size 432x288 with 1 Axes>"
      ]
     },
     "metadata": {
      "needs_background": "light"
     },
     "output_type": "display_data"
    }
   ],
   "source": [
    "plt.scatter(latitudes, longitude)\n",
    "plt.scatter([chosen_p[0]], [chosen_p[1]], color='r')\n",
    "plt.show()"
   ]
  },
  {
   "cell_type": "markdown",
   "metadata": {},
   "source": [
    "**Generate points list**"
   ]
  },
  {
   "cell_type": "code",
   "execution_count": 7,
   "metadata": {
    "ExecuteTime": {
     "end_time": "2019-04-27T23:51:04.625929Z",
     "start_time": "2019-04-27T23:51:04.621713Z"
    }
   },
   "outputs": [],
   "source": [
    "points = []\n",
    "for lat, log in zip(latitudes, longitude):\n",
    "    points.append((lat, log))"
   ]
  },
  {
   "cell_type": "code",
   "execution_count": 8,
   "metadata": {
    "ExecuteTime": {
     "end_time": "2019-04-27T23:51:04.632435Z",
     "start_time": "2019-04-27T23:51:04.628634Z"
    }
   },
   "outputs": [
    {
     "name": "stdout",
     "output_type": "stream",
     "text": [
      "[(-2, -65), (94, -28), (7, -65), (-90, 93), (-34, -76), (30, 58), (24, -36), (3, 36), (100, 80), (-23, 54), (22, -63), (-9, -21), (49, -75), (-45, 86), (29, -82)]\n"
     ]
    }
   ],
   "source": [
    "print(points)"
   ]
  },
  {
   "cell_type": "markdown",
   "metadata": {},
   "source": [
    "### Build function to get distance between two points"
   ]
  },
  {
   "cell_type": "code",
   "execution_count": 9,
   "metadata": {
    "ExecuteTime": {
     "end_time": "2019-04-27T23:51:04.639592Z",
     "start_time": "2019-04-27T23:51:04.634867Z"
    }
   },
   "outputs": [],
   "source": [
    "import numpy as np"
   ]
  },
  {
   "cell_type": "code",
   "execution_count": 10,
   "metadata": {
    "ExecuteTime": {
     "end_time": "2019-04-27T23:51:04.647390Z",
     "start_time": "2019-04-27T23:51:04.642210Z"
    }
   },
   "outputs": [],
   "source": [
    "def get_distance(point1, point2):\n",
    "    point1 = np.array(point1)\n",
    "    point2 = np.array(point2)\n",
    "    dist = np.sqrt(np.sum(np.square(point1 - point2)))\n",
    "    return round(dist, 2)"
   ]
  },
  {
   "cell_type": "code",
   "execution_count": 11,
   "metadata": {
    "ExecuteTime": {
     "end_time": "2019-04-27T23:51:04.656717Z",
     "start_time": "2019-04-27T23:51:04.650177Z"
    }
   },
   "outputs": [
    {
     "data": {
      "text/plain": [
       "5.0"
      ]
     },
     "execution_count": 11,
     "metadata": {},
     "output_type": "execute_result"
    }
   ],
   "source": [
    "# Test\n",
    "get_distance((0, 0), (3, 4))"
   ]
  },
  {
   "cell_type": "markdown",
   "metadata": {},
   "source": [
    "### Build function to get distance dictionary"
   ]
  },
  {
   "cell_type": "code",
   "execution_count": 12,
   "metadata": {
    "ExecuteTime": {
     "end_time": "2019-04-27T23:51:04.666010Z",
     "start_time": "2019-04-27T23:51:04.659845Z"
    }
   },
   "outputs": [],
   "source": [
    "from collections import defaultdict"
   ]
  },
  {
   "cell_type": "code",
   "execution_count": 13,
   "metadata": {
    "ExecuteTime": {
     "end_time": "2019-04-27T23:51:04.678213Z",
     "start_time": "2019-04-27T23:51:04.670779Z"
    }
   },
   "outputs": [],
   "source": [
    "distance_dic = defaultdict(float)\n",
    "\n",
    "def get_dist_dic(start_point, target_points):\n",
    "    \n",
    "    total_points = [start_point] + target_points\n",
    "    \n",
    "    for point_1 in total_points:\n",
    "        for point_2 in total_points:\n",
    "            distance_dic[(point_1, point_2)] = get_distance(point_1, point_2)\n",
    "    \n",
    "    return distance_dic"
   ]
  },
  {
   "cell_type": "code",
   "execution_count": 14,
   "metadata": {
    "ExecuteTime": {
     "end_time": "2019-04-27T23:51:04.696601Z",
     "start_time": "2019-04-27T23:51:04.681314Z"
    }
   },
   "outputs": [],
   "source": [
    "distance_dic = get_dist_dic(chosen_p, points)"
   ]
  },
  {
   "cell_type": "markdown",
   "metadata": {},
   "source": [
    "### Try build solution with car = 1"
   ]
  },
  {
   "cell_type": "code",
   "execution_count": 15,
   "metadata": {
    "ExecuteTime": {
     "end_time": "2019-04-27T23:51:04.705726Z",
     "start_time": "2019-04-27T23:51:04.702117Z"
    }
   },
   "outputs": [],
   "source": [
    "import random"
   ]
  },
  {
   "cell_type": "code",
   "execution_count": 16,
   "metadata": {
    "ExecuteTime": {
     "end_time": "2019-04-27T23:51:04.716672Z",
     "start_time": "2019-04-27T23:51:04.708082Z"
    }
   },
   "outputs": [],
   "source": [
    "def get_min_distance(start_point, target_points, distance_dic):\n",
    "    \n",
    "    if len(target_points) == 0: return 0\n",
    "    \n",
    "    next_point = target_points.pop(random.randint(0, len(target_points) - 1))\n",
    "    \n",
    "    distance = min(\n",
    "        [distance_dic[(start_point, next_point)] + get_min_distance(next_point, target_points, distance_dic)]\n",
    "    )\n",
    "    \n",
    "    return distance"
   ]
  },
  {
   "cell_type": "code",
   "execution_count": 17,
   "metadata": {
    "ExecuteTime": {
     "end_time": "2019-04-27T23:51:04.731349Z",
     "start_time": "2019-04-27T23:51:04.720246Z"
    }
   },
   "outputs": [
    {
     "data": {
      "text/plain": [
       "1820.17"
      ]
     },
     "execution_count": 17,
     "metadata": {},
     "output_type": "execute_result"
    }
   ],
   "source": [
    "get_min_distance(chosen_p, points, distance_dic)"
   ]
  },
  {
   "cell_type": "markdown",
   "metadata": {},
   "source": [
    "To be continue"
   ]
  }
 ],
 "metadata": {
  "kernelspec": {
   "display_name": "Python 3",
   "language": "python",
   "name": "python3"
  },
  "language_info": {
   "codemirror_mode": {
    "name": "ipython",
    "version": 3
   },
   "file_extension": ".py",
   "mimetype": "text/x-python",
   "name": "python",
   "nbconvert_exporter": "python",
   "pygments_lexer": "ipython3",
   "version": "3.7.2"
  },
  "toc": {
   "base_numbering": 1,
   "nav_menu": {},
   "number_sections": false,
   "sideBar": true,
   "skip_h1_title": true,
   "title_cell": "Table of Contents",
   "title_sidebar": "Contents",
   "toc_cell": false,
   "toc_position": {},
   "toc_section_display": true,
   "toc_window_display": true
  }
 },
 "nbformat": 4,
 "nbformat_minor": 2
}
